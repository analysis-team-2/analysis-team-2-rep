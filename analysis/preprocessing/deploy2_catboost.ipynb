{
 "cells": [
  {
   "cell_type": "code",
   "execution_count": 5,
   "id": "519fda44-3cbc-48b0-988d-29450fc9ebb5",
   "metadata": {},
   "outputs": [
    {
     "name": "stdout",
     "output_type": "stream",
     "text": [
      "Predictions: [-2739592.15588087]\n"
     ]
    }
   ],
   "source": [
    "from catboost import CatBoostRegressor, Pool\n",
    "import pandas as pd\n",
    "import pickle\n",
    "from sklearn.metrics import mean_squared_error, mean_absolute_error, r2_score\n",
    "\n",
    "# 저장된 모델 및 범주형 변수 목록 불러오기\n",
    "model = CatBoostRegressor()\n",
    "model.load_model('catboost_amt_model.cbm')\n",
    "\n",
    "with open('categorical_features.pkl', 'rb') as f:\n",
    "    categorical_features = pickle.load(f)\n",
    "\n",
    "with open('categorical_values.pkl', 'rb') as f:\n",
    "    categorical_values = pickle.load(f)\n",
    "\n",
    "# 예측할 데이터 (입력 예시)\n",
    "data = {\n",
    "    \"admi_cty_no\": [41210510],\n",
    "    \"card_tpbuz_cd\": [\"D05\"],\n",
    "    \"cnt\": [28],\n",
    "    \"TOTAL_POPULATION\": [13850.98],\n",
    "    \"운영점포평균영업기간\": [188.5],\n",
    "    \"폐업점포평균영업기간\": [358.0],\n",
    "    \"상권변동지표구분\": [\"HH\"]\n",
    "}\n",
    "\n",
    "input_df = pd.DataFrame(data)\n",
    "\n",
    "# 학습 시 사용한 범주형 변수 값이 아니면 'unknown'으로 처리\n",
    "for col in categorical_features:\n",
    "    input_df[col] = input_df[col].apply(lambda x: x if x in categorical_values[col] else 'unknown')\n",
    "\n",
    "# Pool 객체 생성\n",
    "input_pool = Pool(data=input_df, cat_features=categorical_features)\n",
    "\n",
    "# 예측 수행\n",
    "predictions = model.predict(input_pool)\n",
    "\n",
    "print(\"Predictions:\", predictions)\n",
    "\n",
    "# # 평가 지표 계산\n",
    "# mse = mean_squared_error(y_true, y_pred)\n",
    "# rmse = mean_squared_error(y_true, y_pred, squared=False)\n",
    "# mae = mean_absolute_error(y_true, y_pred)\n",
    "# r2 = r2_score(y_true, y_pred)\n",
    "\n",
    "# print(f\"Mean Squared Error (MSE): {mse}\")\n",
    "# print(f\"Root Mean Squared Error (RMSE): {rmse}\")\n",
    "# print(f\"Mean Absolute Error (MAE): {mae}\")\n",
    "# print(f\"R² (R-squared): {r2}\")\n"
   ]
  },
  {
   "cell_type": "code",
   "execution_count": null,
   "id": "13d54367-aeb9-410f-aee1-6daec03b8ae6",
   "metadata": {},
   "outputs": [],
   "source": []
  }
 ],
 "metadata": {
  "kernelspec": {
   "display_name": "hanati",
   "language": "python",
   "name": "hanati"
  },
  "language_info": {
   "codemirror_mode": {
    "name": "ipython",
    "version": 3
   },
   "file_extension": ".py",
   "mimetype": "text/x-python",
   "name": "python",
   "nbconvert_exporter": "python",
   "pygments_lexer": "ipython3",
   "version": "3.8.18"
  }
 },
 "nbformat": 4,
 "nbformat_minor": 5
}
