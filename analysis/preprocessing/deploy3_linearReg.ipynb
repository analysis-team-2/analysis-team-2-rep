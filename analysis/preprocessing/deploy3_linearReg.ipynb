{
 "cells": [
  {
   "cell_type": "code",
   "execution_count": 1,
   "id": "52cc9953-340f-41ce-8119-f0bfd02d5631",
   "metadata": {},
   "outputs": [],
   "source": [
    "from autogluon.tabular import TabularDataset, TabularPredictor\n",
    "import pandas as pd\n",
    "import numpy as np"
   ]
  },
  {
   "cell_type": "code",
   "execution_count": 13,
   "id": "b01ac592-599e-4968-ada4-4b6d370e158f",
   "metadata": {},
   "outputs": [],
   "source": [
    "# 예측할 데이터\n",
    "data = {\n",
    "    \"admi_cty_no\": [41590590],\n",
    "    \"card_tpbuz_cd\": [\"D01\"],\n",
    "    \"amt\": [365433405],  # 예측에서는 사용되지 않음\n",
    "    \"cnt\": [906],\n",
    "    \"TOTAL_POPULATION\": [7667999.44\t],\n",
    "    \"운영점포평균영업기간\": [37.7],\n",
    "    \"폐업점포평균영업기간\": [33.8],\n",
    "    \"상권변동지표구분\": [\"LL\"]\n",
    "}\n",
    "\n",
    "df_predict = pd.DataFrame(data)\n",
    "df_predict = TabularDataset(df_predict)"
   ]
  },
  {
   "cell_type": "code",
   "execution_count": 14,
   "id": "c5aa1e47-81bf-4a17-8ab1-1fe3941dbb8a",
   "metadata": {},
   "outputs": [],
   "source": [
    "predictor2 = TabularPredictor.load(r\"AutogluonModels\\ag-20240715_073451\")\n",
    "y_pred = predictor2.predict(df_predict.drop(columns=['amt']))"
   ]
  },
  {
   "cell_type": "code",
   "execution_count": 21,
   "id": "f7e8e707-ce1f-4b86-bbbc-18a16776e65a",
   "metadata": {},
   "outputs": [
    {
     "name": "stdout",
     "output_type": "stream",
     "text": [
      "실제값: 365433405\n",
      "예측값: 339639260.0\n"
     ]
    }
   ],
   "source": [
    "print(\"실제값: 365433405\")\n",
    "print(\"예측값:\", y_pred.iloc[0])"
   ]
  },
  {
   "cell_type": "code",
   "execution_count": 5,
   "id": "9690c12e-8420-47f1-b692-38104c93b376",
   "metadata": {},
   "outputs": [
    {
     "data": {
      "text/html": [
       "<div>\n",
       "<style scoped>\n",
       "    .dataframe tbody tr th:only-of-type {\n",
       "        vertical-align: middle;\n",
       "    }\n",
       "\n",
       "    .dataframe tbody tr th {\n",
       "        vertical-align: top;\n",
       "    }\n",
       "\n",
       "    .dataframe thead th {\n",
       "        text-align: right;\n",
       "    }\n",
       "</style>\n",
       "<table border=\"1\" class=\"dataframe\">\n",
       "  <thead>\n",
       "    <tr style=\"text-align: right;\">\n",
       "      <th></th>\n",
       "      <th>admi_cty_no</th>\n",
       "      <th>card_tpbuz_cd</th>\n",
       "      <th>amt</th>\n",
       "      <th>cnt</th>\n",
       "      <th>TOTAL_POPULATION</th>\n",
       "      <th>운영점포평균영업기간</th>\n",
       "      <th>폐업점포평균영업기간</th>\n",
       "      <th>상권변동지표구분</th>\n",
       "    </tr>\n",
       "  </thead>\n",
       "  <tbody>\n",
       "    <tr>\n",
       "      <th>0</th>\n",
       "      <td>41210510</td>\n",
       "      <td>D05</td>\n",
       "      <td>633562</td>\n",
       "      <td>28</td>\n",
       "      <td>13850.98</td>\n",
       "      <td>188.5</td>\n",
       "      <td>358.0</td>\n",
       "      <td>HH</td>\n",
       "    </tr>\n",
       "  </tbody>\n",
       "</table>\n",
       "</div>"
      ],
      "text/plain": [
       "   admi_cty_no card_tpbuz_cd     amt  cnt  TOTAL_POPULATION  운영점포평균영업기간  \\\n",
       "0     41210510           D05  633562   28          13850.98       188.5   \n",
       "\n",
       "   폐업점포평균영업기간 상권변동지표구분  \n",
       "0       358.0       HH  "
      ]
     },
     "execution_count": 5,
     "metadata": {},
     "output_type": "execute_result"
    }
   ],
   "source": [
    "df_predict"
   ]
  },
  {
   "cell_type": "code",
   "execution_count": 9,
   "id": "e7b1ea4a-ee35-4e4d-8f57-1e48b7c5cd13",
   "metadata": {},
   "outputs": [
    {
     "data": {
      "text/plain": [
       "0    1449026.625\n",
       "Name: amt, dtype: float32"
      ]
     },
     "execution_count": 9,
     "metadata": {},
     "output_type": "execute_result"
    }
   ],
   "source": [
    "y_pred"
   ]
  },
  {
   "cell_type": "code",
   "execution_count": 22,
   "id": "49fe4204-c28e-4f45-b393-9b4d589ccf5f",
   "metadata": {},
   "outputs": [
    {
     "name": "stdout",
     "output_type": "stream",
     "text": [
      "실제값: 365433405\n",
      "예측값: 339639260.0\n"
     ]
    }
   ],
   "source": [
    "from autogluon.tabular import TabularDataset, TabularPredictor\n",
    "import pandas as pd\n",
    "import numpy as np\n",
    "\n",
    "data = {\n",
    "    \"admi_cty_no\": [41590590],\n",
    "    \"card_tpbuz_cd\": [\"D01\"],\n",
    "    \"amt\": [365433405],  # 예측에서는 사용되지 않음\n",
    "    \"cnt\": [906], # DB에서 불러오기 \n",
    "    \"TOTAL_POPULATION\": [7667999.44\t], # DB에서 불러오기\n",
    "    \"운영점포평균영업기간\": [37.7], # DB에서 불러오기\n",
    "    \"폐업점포평균영업기간\": [33.8], # DB에서 불러오기\n",
    "    \"상권변동지표구분\": [\"LL\"] # DB에서 불러오기\n",
    "}\n",
    "\n",
    "df_predict = pd.DataFrame(data)\n",
    "df_predict = TabularDataset(df_predict)\n",
    "\n",
    "predictor2 = TabularPredictor.load(r\"AutogluonModels\\ag-20240715_073451\")\n",
    "y_pred = predictor2.predict(df_predict.drop(columns=['amt']))\n",
    "\n",
    "print(\"실제값: 365433405\")\n",
    "print(\"예측값:\", y_pred.iloc[0])"
   ]
  },
  {
   "cell_type": "code",
   "execution_count": null,
   "id": "2254d462-e3f5-4e4f-acf3-a9b52a4b2b0e",
   "metadata": {},
   "outputs": [],
   "source": []
  }
 ],
 "metadata": {
  "kernelspec": {
   "display_name": "hanati",
   "language": "python",
   "name": "hanati"
  },
  "language_info": {
   "codemirror_mode": {
    "name": "ipython",
    "version": 3
   },
   "file_extension": ".py",
   "mimetype": "text/x-python",
   "name": "python",
   "nbconvert_exporter": "python",
   "pygments_lexer": "ipython3",
   "version": "3.8.18"
  }
 },
 "nbformat": 4,
 "nbformat_minor": 5
}
