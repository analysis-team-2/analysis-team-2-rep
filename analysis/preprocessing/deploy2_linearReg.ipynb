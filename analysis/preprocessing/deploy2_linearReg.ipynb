{
 "cells": [
  {
   "cell_type": "code",
   "execution_count": 13,
   "id": "e8515262-d87a-4f61-a189-d3285b9cbffa",
   "metadata": {},
   "outputs": [
    {
     "name": "stderr",
     "output_type": "stream",
     "text": [
      "Found 1 mismatches between original and current metadata:\n",
      "\tINFO: AutoGluon Python micro version mismatch (original=3.8.18, current=3.8.19)\n",
      "C:\\Users\\DA\\anaconda3\\envs\\jh\\lib\\site-packages\\sklearn\\base.py:348: InconsistentVersionWarning: Trying to unpickle estimator OneHotEncoder from version 1.2.2 when using version 1.3.2. This might lead to breaking code or invalid results. Use at your own risk. For more info please refer to:\n",
      "https://scikit-learn.org/stable/model_persistence.html#security-maintainability-limitations\n",
      "  warnings.warn(\n"
     ]
    },
    {
     "ename": "AttributeError",
     "evalue": "'OneHotEncoder' object has no attribute 'feature_name_combiner'",
     "output_type": "error",
     "traceback": [
      "\u001b[1;31m---------------------------------------------------------------------------\u001b[0m",
      "\u001b[1;31mAttributeError\u001b[0m                            Traceback (most recent call last)",
      "Cell \u001b[1;32mIn[13], line 31\u001b[0m\n\u001b[0;32m     28\u001b[0m encoded_features \u001b[38;5;241m=\u001b[39m encoder\u001b[38;5;241m.\u001b[39mtransform(df_predict[categorical_features])\n\u001b[0;32m     30\u001b[0m \u001b[38;5;66;03m# 인코딩된 데이터프레임과 다른 열 합치기\u001b[39;00m\n\u001b[1;32m---> 31\u001b[0m encoded_df \u001b[38;5;241m=\u001b[39m pd\u001b[38;5;241m.\u001b[39mDataFrame(encoded_features, columns\u001b[38;5;241m=\u001b[39m\u001b[43mencoder\u001b[49m\u001b[38;5;241;43m.\u001b[39;49m\u001b[43mget_feature_names_out\u001b[49m\u001b[43m(\u001b[49m\u001b[43mcategorical_features\u001b[49m\u001b[43m)\u001b[49m)\n\u001b[0;32m     32\u001b[0m df_predict_encoded \u001b[38;5;241m=\u001b[39m pd\u001b[38;5;241m.\u001b[39mconcat([df_predict\u001b[38;5;241m.\u001b[39mdrop(columns\u001b[38;5;241m=\u001b[39mcategorical_features), encoded_df], axis\u001b[38;5;241m=\u001b[39m\u001b[38;5;241m1\u001b[39m)\n\u001b[0;32m     34\u001b[0m \u001b[38;5;28mprint\u001b[39m(df_predict_encoded)\n",
      "File \u001b[1;32m~\\anaconda3\\envs\\jh\\lib\\site-packages\\sklearn\\preprocessing\\_encoders.py:1217\u001b[0m, in \u001b[0;36mOneHotEncoder.get_feature_names_out\u001b[1;34m(self, input_features)\u001b[0m\n\u001b[0;32m   1211\u001b[0m input_features \u001b[38;5;241m=\u001b[39m _check_feature_names_in(\u001b[38;5;28mself\u001b[39m, input_features)\n\u001b[0;32m   1212\u001b[0m cats \u001b[38;5;241m=\u001b[39m [\n\u001b[0;32m   1213\u001b[0m     \u001b[38;5;28mself\u001b[39m\u001b[38;5;241m.\u001b[39m_compute_transformed_categories(i)\n\u001b[0;32m   1214\u001b[0m     \u001b[38;5;28;01mfor\u001b[39;00m i, _ \u001b[38;5;129;01min\u001b[39;00m \u001b[38;5;28menumerate\u001b[39m(\u001b[38;5;28mself\u001b[39m\u001b[38;5;241m.\u001b[39mcategories_)\n\u001b[0;32m   1215\u001b[0m ]\n\u001b[1;32m-> 1217\u001b[0m name_combiner \u001b[38;5;241m=\u001b[39m \u001b[38;5;28;43mself\u001b[39;49m\u001b[38;5;241;43m.\u001b[39;49m\u001b[43m_check_get_feature_name_combiner\u001b[49m\u001b[43m(\u001b[49m\u001b[43m)\u001b[49m\n\u001b[0;32m   1218\u001b[0m feature_names \u001b[38;5;241m=\u001b[39m []\n\u001b[0;32m   1219\u001b[0m \u001b[38;5;28;01mfor\u001b[39;00m i \u001b[38;5;129;01min\u001b[39;00m \u001b[38;5;28mrange\u001b[39m(\u001b[38;5;28mlen\u001b[39m(cats)):\n",
      "File \u001b[1;32m~\\anaconda3\\envs\\jh\\lib\\site-packages\\sklearn\\preprocessing\\_encoders.py:1226\u001b[0m, in \u001b[0;36mOneHotEncoder._check_get_feature_name_combiner\u001b[1;34m(self)\u001b[0m\n\u001b[0;32m   1225\u001b[0m \u001b[38;5;28;01mdef\u001b[39;00m \u001b[38;5;21m_check_get_feature_name_combiner\u001b[39m(\u001b[38;5;28mself\u001b[39m):\n\u001b[1;32m-> 1226\u001b[0m     \u001b[38;5;28;01mif\u001b[39;00m \u001b[38;5;28;43mself\u001b[39;49m\u001b[38;5;241;43m.\u001b[39;49m\u001b[43mfeature_name_combiner\u001b[49m \u001b[38;5;241m==\u001b[39m \u001b[38;5;124m\"\u001b[39m\u001b[38;5;124mconcat\u001b[39m\u001b[38;5;124m\"\u001b[39m:\n\u001b[0;32m   1227\u001b[0m         \u001b[38;5;28;01mreturn\u001b[39;00m \u001b[38;5;28;01mlambda\u001b[39;00m feature, category: feature \u001b[38;5;241m+\u001b[39m \u001b[38;5;124m\"\u001b[39m\u001b[38;5;124m_\u001b[39m\u001b[38;5;124m\"\u001b[39m \u001b[38;5;241m+\u001b[39m \u001b[38;5;28mstr\u001b[39m(category)\n\u001b[0;32m   1228\u001b[0m     \u001b[38;5;28;01melse\u001b[39;00m:  \u001b[38;5;66;03m# callable\u001b[39;00m\n",
      "\u001b[1;31mAttributeError\u001b[0m: 'OneHotEncoder' object has no attribute 'feature_name_combiner'"
     ]
    }
   ],
   "source": [
    "import pandas as pd\n",
    "import pickle\n",
    "from autogluon.tabular import TabularPredictor\n",
    "# import \n",
    "# 모델 및 컬럼 목록 로드\n",
    "predictor = TabularPredictor.load(r\"AutogluonModels/ag-20240712_120603\")\n",
    "\n",
    "with open('categorical_mapping.pkl', 'rb') as f:\n",
    "    categorical_mapping = pickle.load(f)\n",
    "\n",
    "# 예측할 데이터\n",
    "data = {\n",
    "    \"admi_cty_no\": [41210510],\n",
    "    \"card_tpbuz_cd\": [\"D05\"],\n",
    "    \"amt\": [633562],  # 예측에서는 사용되지 않음\n",
    "    \"cnt\": [28],\n",
    "    \"TOTAL_POPULATION\": [13850.98],\n",
    "    \"운영점포평균영업기간\": [188.5],\n",
    "    \"폐업점포평균영업기간\": [358.0],\n",
    "    \"상권변동지표구분\": [\"HH\"]\n",
    "}\n",
    "# 저장된 인코더 로드\n",
    "encoder = joblib.load('encoder.pkl')\n",
    "\n",
    "df_predict = pd.DataFrame(data)\n",
    "# 범주형 변수 인코딩\n",
    "categorical_features = [\"card_tpbuz_cd\", \"상권변동지표구분\"]\n",
    "encoded_features = encoder.transform(df_predict[categorical_features])\n",
    "\n",
    "# 인코딩된 데이터프레임과 다른 열 합치기\n",
    "encoded_df = pd.DataFrame(encoded_features, columns=encoder.get_feature_names_out(categorical_features))\n",
    "df_predict_encoded = pd.concat([df_predict.drop(columns=categorical_features), encoded_df], axis=1)\n",
    "\n",
    "print(df_predict_encoded)\n",
    "\n",
    "# 예측 모델에 데이터 전달\n",
    "predictions = predictor.predict(df_predict_encoded.drop(columns=[\"amt\"]))\n",
    "print(predictions)\n"
   ]
  },
  {
   "cell_type": "code",
   "execution_count": null,
   "id": "8b54900f-0d3f-4903-92dd-f15a64ff4c70",
   "metadata": {},
   "outputs": [],
   "source": []
  }
 ],
 "metadata": {
  "kernelspec": {
   "display_name": "Python 3 (ipykernel)",
   "language": "python",
   "name": "python3"
  },
  "language_info": {
   "codemirror_mode": {
    "name": "ipython",
    "version": 3
   },
   "file_extension": ".py",
   "mimetype": "text/x-python",
   "name": "python",
   "nbconvert_exporter": "python",
   "pygments_lexer": "ipython3",
   "version": "3.8.18"
  }
 },
 "nbformat": 4,
 "nbformat_minor": 5
}
