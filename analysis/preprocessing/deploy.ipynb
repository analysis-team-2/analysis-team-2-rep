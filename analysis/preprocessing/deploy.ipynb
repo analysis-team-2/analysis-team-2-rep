{
 "cells": [
  {
   "cell_type": "code",
   "execution_count": 5,
   "id": "7bd3e96a-a689-4156-a999-cc261c153da3",
   "metadata": {},
   "outputs": [],
   "source": [
    "from autogluon.tabular import TabularDataset, TabularPredictor\n",
    "import flask\n",
    "import pandas as pd"
   ]
  },
  {
   "cell_type": "code",
   "execution_count": 4,
   "id": "1a5f7002-20fa-43b5-98a3-0d2d5b7d5c31",
   "metadata": {},
   "outputs": [],
   "source": [
    "predictor = TabularPredictor.load(r\"AutogluonModels\\ag-20240712_120603\")"
   ]
  },
  {
   "cell_type": "code",
   "execution_count": 6,
   "id": "086766eb-cc4a-4bac-b50c-26f3e771aada",
   "metadata": {},
   "outputs": [],
   "source": [
    "import pandas as pd"
   ]
  },
  {
   "cell_type": "code",
   "execution_count": null,
   "id": "c81cd2b7-bc5a-4c6f-88d1-b47c02790990",
   "metadata": {},
   "outputs": [],
   "source": [
    "@app.route('/predict', methods=['POST'])\n",
    "def predict():\n",
    "    data = request.json\n",
    "    df = pd.DataFrame(data)\n",
    "    predictions = model.predict(df)\n",
    "    return jsonify(predictions.to_list())\n",
    "\n",
    "if __name__ == '__main__':\n",
    "    app.run(host='0.0.0.0', port=5000)"
   ]
  },
  {
   "cell_type": "code",
   "execution_count": null,
   "id": "ff06be91-0780-45ff-b8c4-d3d6d2e21130",
   "metadata": {},
   "outputs": [],
   "source": []
  },
  {
   "cell_type": "code",
   "execution_count": 9,
   "id": "9e246ed1-a5f7-41fa-8a41-3e5aaaffba22",
   "metadata": {},
   "outputs": [],
   "source": [
    "data = {\n",
    "    \"admi_cty_no\": [41210510],\n",
    "    \"card_tpbuz_cd\": [\"D05\"],\n",
    "    \"amt\": [633562],\n",
    "    \"cnt\": [28],\n",
    "    \"TOTAL_POPULATION\": [13850.98],\n",
    "    \"운영점포평균영업기간\": [188.5],\n",
    "    \"폐업점포평균영업기간\": [358.0],\n",
    "    \"상권변동지표구분\": [\"HH\"]\n",
    "}\n",
    "\n",
    "# DataFrame으로 변환\n",
    "df = pd.DataFrame(data)"
   ]
  },
  {
   "cell_type": "code",
   "execution_count": 10,
   "id": "6948fd5e-3329-4778-a6bf-2f5b664d6161",
   "metadata": {},
   "outputs": [
    {
     "data": {
      "text/html": [
       "<div>\n",
       "<style scoped>\n",
       "    .dataframe tbody tr th:only-of-type {\n",
       "        vertical-align: middle;\n",
       "    }\n",
       "\n",
       "    .dataframe tbody tr th {\n",
       "        vertical-align: top;\n",
       "    }\n",
       "\n",
       "    .dataframe thead th {\n",
       "        text-align: right;\n",
       "    }\n",
       "</style>\n",
       "<table border=\"1\" class=\"dataframe\">\n",
       "  <thead>\n",
       "    <tr style=\"text-align: right;\">\n",
       "      <th></th>\n",
       "      <th>admi_cty_no</th>\n",
       "      <th>card_tpbuz_cd</th>\n",
       "      <th>amt</th>\n",
       "      <th>cnt</th>\n",
       "      <th>TOTAL_POPULATION</th>\n",
       "      <th>운영점포평균영업기간</th>\n",
       "      <th>폐업점포평균영업기간</th>\n",
       "      <th>상권변동지표구분</th>\n",
       "    </tr>\n",
       "  </thead>\n",
       "  <tbody>\n",
       "    <tr>\n",
       "      <th>0</th>\n",
       "      <td>41210510</td>\n",
       "      <td>D05</td>\n",
       "      <td>633562</td>\n",
       "      <td>28</td>\n",
       "      <td>13850.98</td>\n",
       "      <td>188.5</td>\n",
       "      <td>358.0</td>\n",
       "      <td>HH</td>\n",
       "    </tr>\n",
       "  </tbody>\n",
       "</table>\n",
       "</div>"
      ],
      "text/plain": [
       "   admi_cty_no card_tpbuz_cd     amt  cnt  TOTAL_POPULATION  운영점포평균영업기간  \\\n",
       "0     41210510           D05  633562   28          13850.98       188.5   \n",
       "\n",
       "   폐업점포평균영업기간 상권변동지표구분  \n",
       "0       358.0       HH  "
      ]
     },
     "execution_count": 10,
     "metadata": {},
     "output_type": "execute_result"
    }
   ],
   "source": [
    "df"
   ]
  },
  {
   "cell_type": "code",
   "execution_count": null,
   "id": "57149f7a-1d13-4b42-bebd-07065c3166f5",
   "metadata": {},
   "outputs": [],
   "source": []
  }
 ],
 "metadata": {
  "kernelspec": {
   "display_name": "Python 3 (ipykernel)",
   "language": "python",
   "name": "python3"
  },
  "language_info": {
   "codemirror_mode": {
    "name": "ipython",
    "version": 3
   },
   "file_extension": ".py",
   "mimetype": "text/x-python",
   "name": "python",
   "nbconvert_exporter": "python",
   "pygments_lexer": "ipython3",
   "version": "3.8.18"
  }
 },
 "nbformat": 4,
 "nbformat_minor": 5
}
