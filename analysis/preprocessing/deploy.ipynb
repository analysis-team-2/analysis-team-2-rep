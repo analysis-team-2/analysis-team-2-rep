{
 "cells": [
  {
   "cell_type": "code",
   "execution_count": null,
   "id": "eec6f58f-6940-4902-acd1-211963bc70cd",
   "metadata": {},
   "outputs": [],
   "source": [
    "from autogluon.tabular import TabularDataset, TabularPredictor\n",
    "from autogluon.timeseries import TimeSeriesDataFrame, TimeSeriesPredictor\n",
    "import flask\n",
    "import pandas as pd\n",
    "\n",
    "app = Flask(__name__)\n",
    "\n",
    "@app.before_first_request\n",
    "def load_model():\n",
    "    global model\n",
    "    model = TabularPredictor.load(r'ag-20240712_120603')\n",
    "    print(\"Model loaded\")\n",
    "\n",
    "@app.route('/predict', methods=['POST'])\n",
    "def predict():\n",
    "    data = request.get_json()\n",
    "    df = pd.DataFrame(data)\n",
    "    predictions = model.predict(df)\n",
    "    result = predictions.to_list()\n",
    "    return jsonify(result)\n",
    "\n",
    "if __name__ == '__main__':\n",
    "    app.run(host='0.0.0.0', port=5000)"
   ]
  },
  {
   "cell_type": "code",
   "execution_count": null,
   "id": "267fb3dd-51d0-42df-96c9-a4d22cf04d67",
   "metadata": {},
   "outputs": [],
   "source": [
    "from autogluon.tabular import TabularDataset, TabularPredictor\n",
    "import flask\n",
    "from autogluon.timeseries import TimeSeriesDataFrame, TimeSeriesPredictor\n",
    "import pandas as pd\n",
    "predictor = TabularPredictor.load(r\"AutogluonModels\\ag-20240712_120603\")"
   ]
  },
  {
   "cell_type": "code",
   "execution_count": 1,
   "id": "7bd3e96a-a689-4156-a999-cc261c153da3",
   "metadata": {},
   "outputs": [],
   "source": [
    "from autogluon.tabular import TabularDataset, TabularPredictor\n",
    "import flask\n",
    "from autogluon.timeseries import TimeSeriesDataFrame, TimeSeriesPredictor\n",
    "import pandas as pd"
   ]
  },
  {
   "cell_type": "code",
   "execution_count": 3,
   "id": "1a5f7002-20fa-43b5-98a3-0d2d5b7d5c31",
   "metadata": {},
   "outputs": [],
   "source": [
    "predictor = TabularPredictor.load(r\"AutogluonModels\\ag-20240712_120603\")\n",
    "time_gm_predictor = TimeSeriesPredictor.load(r\"models\\merged_data_gm\")"
   ]
  },
  {
   "cell_type": "code",
   "execution_count": 6,
   "id": "086766eb-cc4a-4bac-b50c-26f3e771aada",
   "metadata": {},
   "outputs": [],
   "source": [
    "import pandas as pd"
   ]
  },
  {
   "cell_type": "code",
   "execution_count": null,
   "id": "c81cd2b7-bc5a-4c6f-88d1-b47c02790990",
   "metadata": {},
   "outputs": [],
   "source": [
    "@app.route('/predict', methods=['POST'])\n",
    "def predict():\n",
    "    data = request.json\n",
    "    df = pd.DataFrame(data)\n",
    "    predictions = model.predict(df)\n",
    "    return jsonify(predictions.to_list())\n",
    "\n",
    "if __name__ == '__main__':\n",
    "    app.run(host='0.0.0.0', port=5000)"
   ]
  },
  {
   "cell_type": "code",
   "execution_count": null,
   "id": "ff06be91-0780-45ff-b8c4-d3d6d2e21130",
   "metadata": {},
   "outputs": [],
   "source": []
  },
  {
   "cell_type": "code",
   "execution_count": 4,
   "id": "9e246ed1-a5f7-41fa-8a41-3e5aaaffba22",
   "metadata": {},
   "outputs": [
    {
     "ename": "KeyError",
     "evalue": "\"87 required columns are missing from the provided dataset to transform using AutoMLPipelineFeatureGenerator. 87 missing columns: ['card_tpbuz_cd_D01', 'card_tpbuz_cd_D02', 'card_tpbuz_cd_D03', 'card_tpbuz_cd_D04', 'card_tpbuz_cd_D05', 'card_tpbuz_cd_D06', 'card_tpbuz_cd_D07', 'card_tpbuz_cd_D08', 'card_tpbuz_cd_D09', 'card_tpbuz_cd_D10', 'card_tpbuz_cd_D11', 'card_tpbuz_cd_D12', 'card_tpbuz_cd_D13', 'card_tpbuz_cd_D14', 'card_tpbuz_cd_D15', 'card_tpbuz_cd_D16', 'card_tpbuz_cd_D17', 'card_tpbuz_cd_D18', 'card_tpbuz_cd_D19', 'card_tpbuz_cd_F01', 'card_tpbuz_cd_F02', 'card_tpbuz_cd_F03', 'card_tpbuz_cd_F04', 'card_tpbuz_cd_F05', 'card_tpbuz_cd_F06', 'card_tpbuz_cd_F07', 'card_tpbuz_cd_F08', 'card_tpbuz_cd_F09', 'card_tpbuz_cd_F10', 'card_tpbuz_cd_F11', 'card_tpbuz_cd_F12', 'card_tpbuz_cd_F13', 'card_tpbuz_cd_F14', 'card_tpbuz_cd_F15', 'card_tpbuz_cd_F16', 'card_tpbuz_cd_F17', 'card_tpbuz_cd_O01', 'card_tpbuz_cd_O02', 'card_tpbuz_cd_O03', 'card_tpbuz_cd_O04', 'card_tpbuz_cd_Q01', 'card_tpbuz_cd_Q02', 'card_tpbuz_cd_Q03', 'card_tpbuz_cd_Q04', 'card_tpbuz_cd_Q05', 'card_tpbuz_cd_Q06', 'card_tpbuz_cd_Q07', 'card_tpbuz_cd_Q08', 'card_tpbuz_cd_Q09', 'card_tpbuz_cd_Q10', 'card_tpbuz_cd_Q11', 'card_tpbuz_cd_Q12', 'card_tpbuz_cd_Q13', 'card_tpbuz_cd_Q14', 'card_tpbuz_cd_Q15', 'card_tpbuz_cd_Q16', 'card_tpbuz_cd_R01', 'card_tpbuz_cd_R02', 'card_tpbuz_cd_R03', 'card_tpbuz_cd_R04', 'card_tpbuz_cd_R05', 'card_tpbuz_cd_R06', 'card_tpbuz_cd_R07', 'card_tpbuz_cd_R08', 'card_tpbuz_cd_S01', 'card_tpbuz_cd_S02', 'card_tpbuz_cd_S03', 'card_tpbuz_cd_S04', 'card_tpbuz_cd_S05', 'card_tpbuz_cd_S06', 'card_tpbuz_cd_T01', 'card_tpbuz_cd_T02', 'card_tpbuz_cd_T03', 'card_tpbuz_cd_T04', 'card_tpbuz_cd_U01', 'card_tpbuz_cd_U02', 'card_tpbuz_cd_U03', 'card_tpbuz_cd_U04', 'card_tpbuz_cd_Y01', 'card_tpbuz_cd_Y02', 'card_tpbuz_cd_Y03', 'card_tpbuz_cd_Y04', 'card_tpbuz_cd_Y05', '상권변동지표구분_HH', '상권변동지표구분_HL', '상권변동지표구분_LH', '상권변동지표구분_LL'] | 7 available columns: ['admi_cty_no', 'card_tpbuz_cd', 'cnt', 'TOTAL_POPULATION', '운영점포평균영업기간', '폐업점포평균영업기간', '상권변동지표구분']\"",
     "output_type": "error",
     "traceback": [
      "\u001b[1;31m---------------------------------------------------------------------------\u001b[0m",
      "\u001b[1;31mKeyError\u001b[0m                                  Traceback (most recent call last)",
      "File \u001b[1;32m~\\anaconda3\\envs\\hanati\\lib\\site-packages\\autogluon\\features\\generators\\abstract.py:338\u001b[0m, in \u001b[0;36mAbstractFeatureGenerator.transform\u001b[1;34m(self, X)\u001b[0m\n\u001b[0;32m    335\u001b[0m     \u001b[38;5;28;01mif\u001b[39;00m \u001b[38;5;28mlist\u001b[39m(X\u001b[38;5;241m.\u001b[39mcolumns) \u001b[38;5;241m!=\u001b[39m \u001b[38;5;28mself\u001b[39m\u001b[38;5;241m.\u001b[39mfeatures_in:\n\u001b[0;32m    336\u001b[0m         \u001b[38;5;66;03m# It comes at a cost when making a copy of the DataFrame,\u001b[39;00m\n\u001b[0;32m    337\u001b[0m         \u001b[38;5;66;03m# therefore, try avoid copying by checking the expected features first.\u001b[39;00m\n\u001b[1;32m--> 338\u001b[0m         X \u001b[38;5;241m=\u001b[39m \u001b[43mX\u001b[49m\u001b[43m[\u001b[49m\u001b[38;5;28;43mself\u001b[39;49m\u001b[38;5;241;43m.\u001b[39;49m\u001b[43mfeatures_in\u001b[49m\u001b[43m]\u001b[49m\n\u001b[0;32m    339\u001b[0m \u001b[38;5;28;01mexcept\u001b[39;00m \u001b[38;5;167;01mKeyError\u001b[39;00m:\n",
      "File \u001b[1;32m~\\anaconda3\\envs\\hanati\\lib\\site-packages\\pandas\\core\\frame.py:3813\u001b[0m, in \u001b[0;36mDataFrame.__getitem__\u001b[1;34m(self, key)\u001b[0m\n\u001b[0;32m   3812\u001b[0m         key \u001b[38;5;241m=\u001b[39m \u001b[38;5;28mlist\u001b[39m(key)\n\u001b[1;32m-> 3813\u001b[0m     indexer \u001b[38;5;241m=\u001b[39m \u001b[38;5;28;43mself\u001b[39;49m\u001b[38;5;241;43m.\u001b[39;49m\u001b[43mcolumns\u001b[49m\u001b[38;5;241;43m.\u001b[39;49m\u001b[43m_get_indexer_strict\u001b[49m\u001b[43m(\u001b[49m\u001b[43mkey\u001b[49m\u001b[43m,\u001b[49m\u001b[43m \u001b[49m\u001b[38;5;124;43m\"\u001b[39;49m\u001b[38;5;124;43mcolumns\u001b[39;49m\u001b[38;5;124;43m\"\u001b[39;49m\u001b[43m)\u001b[49m[\u001b[38;5;241m1\u001b[39m]\n\u001b[0;32m   3815\u001b[0m \u001b[38;5;66;03m# take() does not accept boolean indexers\u001b[39;00m\n",
      "File \u001b[1;32m~\\anaconda3\\envs\\hanati\\lib\\site-packages\\pandas\\core\\indexes\\base.py:6070\u001b[0m, in \u001b[0;36mIndex._get_indexer_strict\u001b[1;34m(self, key, axis_name)\u001b[0m\n\u001b[0;32m   6068\u001b[0m     keyarr, indexer, new_indexer \u001b[38;5;241m=\u001b[39m \u001b[38;5;28mself\u001b[39m\u001b[38;5;241m.\u001b[39m_reindex_non_unique(keyarr)\n\u001b[1;32m-> 6070\u001b[0m \u001b[38;5;28;43mself\u001b[39;49m\u001b[38;5;241;43m.\u001b[39;49m\u001b[43m_raise_if_missing\u001b[49m\u001b[43m(\u001b[49m\u001b[43mkeyarr\u001b[49m\u001b[43m,\u001b[49m\u001b[43m \u001b[49m\u001b[43mindexer\u001b[49m\u001b[43m,\u001b[49m\u001b[43m \u001b[49m\u001b[43maxis_name\u001b[49m\u001b[43m)\u001b[49m\n\u001b[0;32m   6072\u001b[0m keyarr \u001b[38;5;241m=\u001b[39m \u001b[38;5;28mself\u001b[39m\u001b[38;5;241m.\u001b[39mtake(indexer)\n",
      "File \u001b[1;32m~\\anaconda3\\envs\\hanati\\lib\\site-packages\\pandas\\core\\indexes\\base.py:6133\u001b[0m, in \u001b[0;36mIndex._raise_if_missing\u001b[1;34m(self, key, indexer, axis_name)\u001b[0m\n\u001b[0;32m   6132\u001b[0m not_found \u001b[38;5;241m=\u001b[39m \u001b[38;5;28mlist\u001b[39m(ensure_index(key)[missing_mask\u001b[38;5;241m.\u001b[39mnonzero()[\u001b[38;5;241m0\u001b[39m]]\u001b[38;5;241m.\u001b[39munique())\n\u001b[1;32m-> 6133\u001b[0m \u001b[38;5;28;01mraise\u001b[39;00m \u001b[38;5;167;01mKeyError\u001b[39;00m(\u001b[38;5;124mf\u001b[39m\u001b[38;5;124m\"\u001b[39m\u001b[38;5;132;01m{\u001b[39;00mnot_found\u001b[38;5;132;01m}\u001b[39;00m\u001b[38;5;124m not in index\u001b[39m\u001b[38;5;124m\"\u001b[39m)\n",
      "\u001b[1;31mKeyError\u001b[0m: \"['card_tpbuz_cd_D01', 'card_tpbuz_cd_D02', 'card_tpbuz_cd_D03', 'card_tpbuz_cd_D04', 'card_tpbuz_cd_D05', 'card_tpbuz_cd_D06', 'card_tpbuz_cd_D07', 'card_tpbuz_cd_D08', 'card_tpbuz_cd_D09', 'card_tpbuz_cd_D10', 'card_tpbuz_cd_D11', 'card_tpbuz_cd_D12', 'card_tpbuz_cd_D13', 'card_tpbuz_cd_D14', 'card_tpbuz_cd_D15', 'card_tpbuz_cd_D16', 'card_tpbuz_cd_D17', 'card_tpbuz_cd_D18', 'card_tpbuz_cd_D19', 'card_tpbuz_cd_F01', 'card_tpbuz_cd_F02', 'card_tpbuz_cd_F03', 'card_tpbuz_cd_F04', 'card_tpbuz_cd_F05', 'card_tpbuz_cd_F06', 'card_tpbuz_cd_F07', 'card_tpbuz_cd_F08', 'card_tpbuz_cd_F09', 'card_tpbuz_cd_F10', 'card_tpbuz_cd_F11', 'card_tpbuz_cd_F12', 'card_tpbuz_cd_F13', 'card_tpbuz_cd_F14', 'card_tpbuz_cd_F15', 'card_tpbuz_cd_F16', 'card_tpbuz_cd_F17', 'card_tpbuz_cd_O01', 'card_tpbuz_cd_O02', 'card_tpbuz_cd_O03', 'card_tpbuz_cd_O04', 'card_tpbuz_cd_Q01', 'card_tpbuz_cd_Q02', 'card_tpbuz_cd_Q03', 'card_tpbuz_cd_Q04', 'card_tpbuz_cd_Q05', 'card_tpbuz_cd_Q06', 'card_tpbuz_cd_Q07', 'card_tpbuz_cd_Q08', 'card_tpbuz_cd_Q09', 'card_tpbuz_cd_Q10', 'card_tpbuz_cd_Q11', 'card_tpbuz_cd_Q12', 'card_tpbuz_cd_Q13', 'card_tpbuz_cd_Q14', 'card_tpbuz_cd_Q15', 'card_tpbuz_cd_Q16', 'card_tpbuz_cd_R01', 'card_tpbuz_cd_R02', 'card_tpbuz_cd_R03', 'card_tpbuz_cd_R04', 'card_tpbuz_cd_R05', 'card_tpbuz_cd_R06', 'card_tpbuz_cd_R07', 'card_tpbuz_cd_R08', 'card_tpbuz_cd_S01', 'card_tpbuz_cd_S02', 'card_tpbuz_cd_S03', 'card_tpbuz_cd_S04', 'card_tpbuz_cd_S05', 'card_tpbuz_cd_S06', 'card_tpbuz_cd_T01', 'card_tpbuz_cd_T02', 'card_tpbuz_cd_T03', 'card_tpbuz_cd_T04', 'card_tpbuz_cd_U01', 'card_tpbuz_cd_U02', 'card_tpbuz_cd_U03', 'card_tpbuz_cd_U04', 'card_tpbuz_cd_Y01', 'card_tpbuz_cd_Y02', 'card_tpbuz_cd_Y03', 'card_tpbuz_cd_Y04', 'card_tpbuz_cd_Y05', '상권변동지표구분_HH', '상권변동지표구분_HL', '상권변동지표구분_LH', '상권변동지표구분_LL'] not in index\"",
      "\nDuring handling of the above exception, another exception occurred:\n",
      "\u001b[1;31mKeyError\u001b[0m                                  Traceback (most recent call last)",
      "Cell \u001b[1;32mIn[4], line 14\u001b[0m\n\u001b[0;32m     12\u001b[0m \u001b[38;5;66;03m# DataFrame으로 변환\u001b[39;00m\n\u001b[0;32m     13\u001b[0m df \u001b[38;5;241m=\u001b[39m pd\u001b[38;5;241m.\u001b[39mDataFrame(data)\n\u001b[1;32m---> 14\u001b[0m predictions \u001b[38;5;241m=\u001b[39m \u001b[43mpredictor\u001b[49m\u001b[38;5;241;43m.\u001b[39;49m\u001b[43mpredict\u001b[49m\u001b[43m(\u001b[49m\u001b[43mdf\u001b[49m\u001b[38;5;241;43m.\u001b[39;49m\u001b[43mdrop\u001b[49m\u001b[43m(\u001b[49m\u001b[43mcolumns\u001b[49m\u001b[38;5;241;43m=\u001b[39;49m\u001b[43m[\u001b[49m\u001b[38;5;124;43m'\u001b[39;49m\u001b[38;5;124;43mamt\u001b[39;49m\u001b[38;5;124;43m'\u001b[39;49m\u001b[43m]\u001b[49m\u001b[43m)\u001b[49m\u001b[43m)\u001b[49m \n",
      "File \u001b[1;32m~\\anaconda3\\envs\\hanati\\lib\\site-packages\\autogluon\\tabular\\predictor\\predictor.py:2117\u001b[0m, in \u001b[0;36mTabularPredictor.predict\u001b[1;34m(self, data, model, as_pandas, transform_features, decision_threshold)\u001b[0m\n\u001b[0;32m   2115\u001b[0m \u001b[38;5;28;01mif\u001b[39;00m decision_threshold \u001b[38;5;129;01mis\u001b[39;00m \u001b[38;5;28;01mNone\u001b[39;00m:\n\u001b[0;32m   2116\u001b[0m     decision_threshold \u001b[38;5;241m=\u001b[39m \u001b[38;5;28mself\u001b[39m\u001b[38;5;241m.\u001b[39mdecision_threshold\n\u001b[1;32m-> 2117\u001b[0m \u001b[38;5;28;01mreturn\u001b[39;00m \u001b[38;5;28;43mself\u001b[39;49m\u001b[38;5;241;43m.\u001b[39;49m\u001b[43m_learner\u001b[49m\u001b[38;5;241;43m.\u001b[39;49m\u001b[43mpredict\u001b[49m\u001b[43m(\u001b[49m\u001b[43mX\u001b[49m\u001b[38;5;241;43m=\u001b[39;49m\u001b[43mdata\u001b[49m\u001b[43m,\u001b[49m\u001b[43m \u001b[49m\u001b[43mmodel\u001b[49m\u001b[38;5;241;43m=\u001b[39;49m\u001b[43mmodel\u001b[49m\u001b[43m,\u001b[49m\u001b[43m \u001b[49m\u001b[43mas_pandas\u001b[49m\u001b[38;5;241;43m=\u001b[39;49m\u001b[43mas_pandas\u001b[49m\u001b[43m,\u001b[49m\u001b[43m \u001b[49m\u001b[43mtransform_features\u001b[49m\u001b[38;5;241;43m=\u001b[39;49m\u001b[43mtransform_features\u001b[49m\u001b[43m,\u001b[49m\u001b[43m \u001b[49m\u001b[43mdecision_threshold\u001b[49m\u001b[38;5;241;43m=\u001b[39;49m\u001b[43mdecision_threshold\u001b[49m\u001b[43m)\u001b[49m\n",
      "File \u001b[1;32m~\\anaconda3\\envs\\hanati\\lib\\site-packages\\autogluon\\tabular\\learner\\abstract_learner.py:208\u001b[0m, in \u001b[0;36mAbstractTabularLearner.predict\u001b[1;34m(self, X, model, as_pandas, inverse_transform, transform_features, decision_threshold)\u001b[0m\n\u001b[0;32m    206\u001b[0m     decision_threshold \u001b[38;5;241m=\u001b[39m \u001b[38;5;241m0.5\u001b[39m\n\u001b[0;32m    207\u001b[0m X_index \u001b[38;5;241m=\u001b[39m copy\u001b[38;5;241m.\u001b[39mdeepcopy(X\u001b[38;5;241m.\u001b[39mindex) \u001b[38;5;28;01mif\u001b[39;00m as_pandas \u001b[38;5;28;01melse\u001b[39;00m \u001b[38;5;28;01mNone\u001b[39;00m\n\u001b[1;32m--> 208\u001b[0m y_pred_proba \u001b[38;5;241m=\u001b[39m \u001b[38;5;28;43mself\u001b[39;49m\u001b[38;5;241;43m.\u001b[39;49m\u001b[43mpredict_proba\u001b[49m\u001b[43m(\u001b[49m\n\u001b[0;32m    209\u001b[0m \u001b[43m    \u001b[49m\u001b[43mX\u001b[49m\u001b[38;5;241;43m=\u001b[39;49m\u001b[43mX\u001b[49m\u001b[43m,\u001b[49m\u001b[43m \u001b[49m\u001b[43mmodel\u001b[49m\u001b[38;5;241;43m=\u001b[39;49m\u001b[43mmodel\u001b[49m\u001b[43m,\u001b[49m\u001b[43m \u001b[49m\u001b[43mas_pandas\u001b[49m\u001b[38;5;241;43m=\u001b[39;49m\u001b[38;5;28;43;01mFalse\u001b[39;49;00m\u001b[43m,\u001b[49m\u001b[43m \u001b[49m\u001b[43mas_multiclass\u001b[49m\u001b[38;5;241;43m=\u001b[39;49m\u001b[38;5;28;43;01mFalse\u001b[39;49;00m\u001b[43m,\u001b[49m\u001b[43m \u001b[49m\u001b[43minverse_transform\u001b[49m\u001b[38;5;241;43m=\u001b[39;49m\u001b[38;5;28;43;01mFalse\u001b[39;49;00m\u001b[43m,\u001b[49m\u001b[43m \u001b[49m\u001b[43mtransform_features\u001b[49m\u001b[38;5;241;43m=\u001b[39;49m\u001b[43mtransform_features\u001b[49m\n\u001b[0;32m    210\u001b[0m \u001b[43m\u001b[49m\u001b[43m)\u001b[49m\n\u001b[0;32m    211\u001b[0m problem_type \u001b[38;5;241m=\u001b[39m \u001b[38;5;28mself\u001b[39m\u001b[38;5;241m.\u001b[39mlabel_cleaner\u001b[38;5;241m.\u001b[39mproblem_type_transform \u001b[38;5;129;01mor\u001b[39;00m \u001b[38;5;28mself\u001b[39m\u001b[38;5;241m.\u001b[39mproblem_type\n\u001b[0;32m    212\u001b[0m y_pred \u001b[38;5;241m=\u001b[39m get_pred_from_proba(y_pred_proba\u001b[38;5;241m=\u001b[39my_pred_proba, problem_type\u001b[38;5;241m=\u001b[39mproblem_type, decision_threshold\u001b[38;5;241m=\u001b[39mdecision_threshold)\n",
      "File \u001b[1;32m~\\anaconda3\\envs\\hanati\\lib\\site-packages\\autogluon\\tabular\\learner\\abstract_learner.py:188\u001b[0m, in \u001b[0;36mAbstractTabularLearner.predict_proba\u001b[1;34m(self, X, model, as_pandas, as_multiclass, inverse_transform, transform_features)\u001b[0m\n\u001b[0;32m    186\u001b[0m \u001b[38;5;28;01melse\u001b[39;00m:\n\u001b[0;32m    187\u001b[0m     \u001b[38;5;28;01mif\u001b[39;00m transform_features:\n\u001b[1;32m--> 188\u001b[0m         X \u001b[38;5;241m=\u001b[39m \u001b[38;5;28;43mself\u001b[39;49m\u001b[38;5;241;43m.\u001b[39;49m\u001b[43mtransform_features\u001b[49m\u001b[43m(\u001b[49m\u001b[43mX\u001b[49m\u001b[43m)\u001b[49m\n\u001b[0;32m    189\u001b[0m     y_pred_proba \u001b[38;5;241m=\u001b[39m \u001b[38;5;28mself\u001b[39m\u001b[38;5;241m.\u001b[39mload_trainer()\u001b[38;5;241m.\u001b[39mpredict_proba(X, model\u001b[38;5;241m=\u001b[39mmodel)\n\u001b[0;32m    190\u001b[0m y_pred_proba \u001b[38;5;241m=\u001b[39m \u001b[38;5;28mself\u001b[39m\u001b[38;5;241m.\u001b[39m_post_process_predict_proba(\n\u001b[0;32m    191\u001b[0m     y_pred_proba\u001b[38;5;241m=\u001b[39my_pred_proba, as_pandas\u001b[38;5;241m=\u001b[39mas_pandas, index\u001b[38;5;241m=\u001b[39mX_index, as_multiclass\u001b[38;5;241m=\u001b[39mas_multiclass, inverse_transform\u001b[38;5;241m=\u001b[39minverse_transform\n\u001b[0;32m    192\u001b[0m )\n",
      "File \u001b[1;32m~\\anaconda3\\envs\\hanati\\lib\\site-packages\\autogluon\\tabular\\learner\\abstract_learner.py:464\u001b[0m, in \u001b[0;36mAbstractTabularLearner.transform_features\u001b[1;34m(self, X)\u001b[0m\n\u001b[0;32m    462\u001b[0m \u001b[38;5;28;01mdef\u001b[39;00m \u001b[38;5;21mtransform_features\u001b[39m(\u001b[38;5;28mself\u001b[39m, X):\n\u001b[0;32m    463\u001b[0m     \u001b[38;5;28;01mfor\u001b[39;00m feature_generator \u001b[38;5;129;01min\u001b[39;00m \u001b[38;5;28mself\u001b[39m\u001b[38;5;241m.\u001b[39mfeature_generators:\n\u001b[1;32m--> 464\u001b[0m         X \u001b[38;5;241m=\u001b[39m \u001b[43mfeature_generator\u001b[49m\u001b[38;5;241;43m.\u001b[39;49m\u001b[43mtransform\u001b[49m\u001b[43m(\u001b[49m\u001b[43mX\u001b[49m\u001b[43m)\u001b[49m\n\u001b[0;32m    465\u001b[0m     \u001b[38;5;28;01mreturn\u001b[39;00m X\n",
      "File \u001b[1;32m~\\anaconda3\\envs\\hanati\\lib\\site-packages\\autogluon\\features\\generators\\abstract.py:344\u001b[0m, in \u001b[0;36mAbstractFeatureGenerator.transform\u001b[1;34m(self, X)\u001b[0m\n\u001b[0;32m    342\u001b[0m         \u001b[38;5;28;01mif\u001b[39;00m col \u001b[38;5;129;01mnot\u001b[39;00m \u001b[38;5;129;01min\u001b[39;00m X\u001b[38;5;241m.\u001b[39mcolumns:\n\u001b[0;32m    343\u001b[0m             missing_cols\u001b[38;5;241m.\u001b[39mappend(col)\n\u001b[1;32m--> 344\u001b[0m     \u001b[38;5;28;01mraise\u001b[39;00m \u001b[38;5;167;01mKeyError\u001b[39;00m(\n\u001b[0;32m    345\u001b[0m         \u001b[38;5;124mf\u001b[39m\u001b[38;5;124m\"\u001b[39m\u001b[38;5;132;01m{\u001b[39;00m\u001b[38;5;28mlen\u001b[39m(missing_cols)\u001b[38;5;132;01m}\u001b[39;00m\u001b[38;5;124m required columns are missing from the provided dataset to transform using \u001b[39m\u001b[38;5;132;01m{\u001b[39;00m\u001b[38;5;28mself\u001b[39m\u001b[38;5;241m.\u001b[39m\u001b[38;5;18m__class__\u001b[39m\u001b[38;5;241m.\u001b[39m\u001b[38;5;18m__name__\u001b[39m\u001b[38;5;132;01m}\u001b[39;00m\u001b[38;5;124m. \u001b[39m\u001b[38;5;124m\"\u001b[39m\n\u001b[0;32m    346\u001b[0m         \u001b[38;5;124mf\u001b[39m\u001b[38;5;124m\"\u001b[39m\u001b[38;5;132;01m{\u001b[39;00m\u001b[38;5;28mlen\u001b[39m(missing_cols)\u001b[38;5;132;01m}\u001b[39;00m\u001b[38;5;124m missing columns: \u001b[39m\u001b[38;5;132;01m{\u001b[39;00mmissing_cols\u001b[38;5;132;01m}\u001b[39;00m\u001b[38;5;124m | \u001b[39m\u001b[38;5;124m\"\u001b[39m\n\u001b[0;32m    347\u001b[0m         \u001b[38;5;124mf\u001b[39m\u001b[38;5;124m\"\u001b[39m\u001b[38;5;132;01m{\u001b[39;00m\u001b[38;5;28mlen\u001b[39m(\u001b[38;5;28mlist\u001b[39m(X\u001b[38;5;241m.\u001b[39mcolumns))\u001b[38;5;132;01m}\u001b[39;00m\u001b[38;5;124m available columns: \u001b[39m\u001b[38;5;132;01m{\u001b[39;00m\u001b[38;5;28mlist\u001b[39m(X\u001b[38;5;241m.\u001b[39mcolumns)\u001b[38;5;132;01m}\u001b[39;00m\u001b[38;5;124m\"\u001b[39m\n\u001b[0;32m    348\u001b[0m     )\n\u001b[0;32m    349\u001b[0m \u001b[38;5;28;01mif\u001b[39;00m \u001b[38;5;28mself\u001b[39m\u001b[38;5;241m.\u001b[39m_pre_astype_generator:\n\u001b[0;32m    350\u001b[0m     X \u001b[38;5;241m=\u001b[39m \u001b[38;5;28mself\u001b[39m\u001b[38;5;241m.\u001b[39m_pre_astype_generator\u001b[38;5;241m.\u001b[39mtransform(X)\n",
      "\u001b[1;31mKeyError\u001b[0m: \"87 required columns are missing from the provided dataset to transform using AutoMLPipelineFeatureGenerator. 87 missing columns: ['card_tpbuz_cd_D01', 'card_tpbuz_cd_D02', 'card_tpbuz_cd_D03', 'card_tpbuz_cd_D04', 'card_tpbuz_cd_D05', 'card_tpbuz_cd_D06', 'card_tpbuz_cd_D07', 'card_tpbuz_cd_D08', 'card_tpbuz_cd_D09', 'card_tpbuz_cd_D10', 'card_tpbuz_cd_D11', 'card_tpbuz_cd_D12', 'card_tpbuz_cd_D13', 'card_tpbuz_cd_D14', 'card_tpbuz_cd_D15', 'card_tpbuz_cd_D16', 'card_tpbuz_cd_D17', 'card_tpbuz_cd_D18', 'card_tpbuz_cd_D19', 'card_tpbuz_cd_F01', 'card_tpbuz_cd_F02', 'card_tpbuz_cd_F03', 'card_tpbuz_cd_F04', 'card_tpbuz_cd_F05', 'card_tpbuz_cd_F06', 'card_tpbuz_cd_F07', 'card_tpbuz_cd_F08', 'card_tpbuz_cd_F09', 'card_tpbuz_cd_F10', 'card_tpbuz_cd_F11', 'card_tpbuz_cd_F12', 'card_tpbuz_cd_F13', 'card_tpbuz_cd_F14', 'card_tpbuz_cd_F15', 'card_tpbuz_cd_F16', 'card_tpbuz_cd_F17', 'card_tpbuz_cd_O01', 'card_tpbuz_cd_O02', 'card_tpbuz_cd_O03', 'card_tpbuz_cd_O04', 'card_tpbuz_cd_Q01', 'card_tpbuz_cd_Q02', 'card_tpbuz_cd_Q03', 'card_tpbuz_cd_Q04', 'card_tpbuz_cd_Q05', 'card_tpbuz_cd_Q06', 'card_tpbuz_cd_Q07', 'card_tpbuz_cd_Q08', 'card_tpbuz_cd_Q09', 'card_tpbuz_cd_Q10', 'card_tpbuz_cd_Q11', 'card_tpbuz_cd_Q12', 'card_tpbuz_cd_Q13', 'card_tpbuz_cd_Q14', 'card_tpbuz_cd_Q15', 'card_tpbuz_cd_Q16', 'card_tpbuz_cd_R01', 'card_tpbuz_cd_R02', 'card_tpbuz_cd_R03', 'card_tpbuz_cd_R04', 'card_tpbuz_cd_R05', 'card_tpbuz_cd_R06', 'card_tpbuz_cd_R07', 'card_tpbuz_cd_R08', 'card_tpbuz_cd_S01', 'card_tpbuz_cd_S02', 'card_tpbuz_cd_S03', 'card_tpbuz_cd_S04', 'card_tpbuz_cd_S05', 'card_tpbuz_cd_S06', 'card_tpbuz_cd_T01', 'card_tpbuz_cd_T02', 'card_tpbuz_cd_T03', 'card_tpbuz_cd_T04', 'card_tpbuz_cd_U01', 'card_tpbuz_cd_U02', 'card_tpbuz_cd_U03', 'card_tpbuz_cd_U04', 'card_tpbuz_cd_Y01', 'card_tpbuz_cd_Y02', 'card_tpbuz_cd_Y03', 'card_tpbuz_cd_Y04', 'card_tpbuz_cd_Y05', '상권변동지표구분_HH', '상권변동지표구분_HL', '상권변동지표구분_LH', '상권변동지표구분_LL'] | 7 available columns: ['admi_cty_no', 'card_tpbuz_cd', 'cnt', 'TOTAL_POPULATION', '운영점포평균영업기간', '폐업점포평균영업기간', '상권변동지표구분']\""
     ]
    }
   ],
   "source": [
    "data = {\n",
    "    \"admi_cty_no\": [41210510],\n",
    "    \"card_tpbuz_cd\": [\"D05\"],\n",
    "    \"amt\": [633562],\n",
    "    \"cnt\": [28],\n",
    "    \"TOTAL_POPULATION\": [13850.98],\n",
    "    \"운영점포평균영업기간\": [188.5],\n",
    "    \"폐업점포평균영업기간\": [358.0],\n",
    "    \"상권변동지표구분\": [\"HH\"]\n",
    "}\n",
    "\n",
    "# DataFrame으로 변환\n",
    "df = pd.DataFrame(data)\n",
    "predictions = predictor.predict(df.drop(columns=['amt'])) "
   ]
  },
  {
   "cell_type": "code",
   "execution_count": 10,
   "id": "6948fd5e-3329-4778-a6bf-2f5b664d6161",
   "metadata": {},
   "outputs": [
    {
     "data": {
      "text/html": [
       "<div>\n",
       "<style scoped>\n",
       "    .dataframe tbody tr th:only-of-type {\n",
       "        vertical-align: middle;\n",
       "    }\n",
       "\n",
       "    .dataframe tbody tr th {\n",
       "        vertical-align: top;\n",
       "    }\n",
       "\n",
       "    .dataframe thead th {\n",
       "        text-align: right;\n",
       "    }\n",
       "</style>\n",
       "<table border=\"1\" class=\"dataframe\">\n",
       "  <thead>\n",
       "    <tr style=\"text-align: right;\">\n",
       "      <th></th>\n",
       "      <th>admi_cty_no</th>\n",
       "      <th>card_tpbuz_cd</th>\n",
       "      <th>amt</th>\n",
       "      <th>cnt</th>\n",
       "      <th>TOTAL_POPULATION</th>\n",
       "      <th>운영점포평균영업기간</th>\n",
       "      <th>폐업점포평균영업기간</th>\n",
       "      <th>상권변동지표구분</th>\n",
       "    </tr>\n",
       "  </thead>\n",
       "  <tbody>\n",
       "    <tr>\n",
       "      <th>0</th>\n",
       "      <td>41210510</td>\n",
       "      <td>D05</td>\n",
       "      <td>633562</td>\n",
       "      <td>28</td>\n",
       "      <td>13850.98</td>\n",
       "      <td>188.5</td>\n",
       "      <td>358.0</td>\n",
       "      <td>HH</td>\n",
       "    </tr>\n",
       "  </tbody>\n",
       "</table>\n",
       "</div>"
      ],
      "text/plain": [
       "   admi_cty_no card_tpbuz_cd     amt  cnt  TOTAL_POPULATION  운영점포평균영업기간  \\\n",
       "0     41210510           D05  633562   28          13850.98       188.5   \n",
       "\n",
       "   폐업점포평균영업기간 상권변동지표구분  \n",
       "0       358.0       HH  "
      ]
     },
     "execution_count": 10,
     "metadata": {},
     "output_type": "execute_result"
    }
   ],
   "source": [
    "df"
   ]
  },
  {
   "cell_type": "code",
   "execution_count": 16,
   "id": "57149f7a-1d13-4b42-bebd-07065c3166f5",
   "metadata": {},
   "outputs": [
    {
     "ename": "KeyError",
     "evalue": "\"87 required columns are missing from the provided dataset to transform using AutoMLPipelineFeatureGenerator. 87 missing columns: ['card_tpbuz_cd_D01', 'card_tpbuz_cd_D02', 'card_tpbuz_cd_D03', 'card_tpbuz_cd_D04', 'card_tpbuz_cd_D05', 'card_tpbuz_cd_D06', 'card_tpbuz_cd_D07', 'card_tpbuz_cd_D08', 'card_tpbuz_cd_D09', 'card_tpbuz_cd_D10', 'card_tpbuz_cd_D11', 'card_tpbuz_cd_D12', 'card_tpbuz_cd_D13', 'card_tpbuz_cd_D14', 'card_tpbuz_cd_D15', 'card_tpbuz_cd_D16', 'card_tpbuz_cd_D17', 'card_tpbuz_cd_D18', 'card_tpbuz_cd_D19', 'card_tpbuz_cd_F01', 'card_tpbuz_cd_F02', 'card_tpbuz_cd_F03', 'card_tpbuz_cd_F04', 'card_tpbuz_cd_F05', 'card_tpbuz_cd_F06', 'card_tpbuz_cd_F07', 'card_tpbuz_cd_F08', 'card_tpbuz_cd_F09', 'card_tpbuz_cd_F10', 'card_tpbuz_cd_F11', 'card_tpbuz_cd_F12', 'card_tpbuz_cd_F13', 'card_tpbuz_cd_F14', 'card_tpbuz_cd_F15', 'card_tpbuz_cd_F16', 'card_tpbuz_cd_F17', 'card_tpbuz_cd_O01', 'card_tpbuz_cd_O02', 'card_tpbuz_cd_O03', 'card_tpbuz_cd_O04', 'card_tpbuz_cd_Q01', 'card_tpbuz_cd_Q02', 'card_tpbuz_cd_Q03', 'card_tpbuz_cd_Q04', 'card_tpbuz_cd_Q05', 'card_tpbuz_cd_Q06', 'card_tpbuz_cd_Q07', 'card_tpbuz_cd_Q08', 'card_tpbuz_cd_Q09', 'card_tpbuz_cd_Q10', 'card_tpbuz_cd_Q11', 'card_tpbuz_cd_Q12', 'card_tpbuz_cd_Q13', 'card_tpbuz_cd_Q14', 'card_tpbuz_cd_Q15', 'card_tpbuz_cd_Q16', 'card_tpbuz_cd_R01', 'card_tpbuz_cd_R02', 'card_tpbuz_cd_R03', 'card_tpbuz_cd_R04', 'card_tpbuz_cd_R05', 'card_tpbuz_cd_R06', 'card_tpbuz_cd_R07', 'card_tpbuz_cd_R08', 'card_tpbuz_cd_S01', 'card_tpbuz_cd_S02', 'card_tpbuz_cd_S03', 'card_tpbuz_cd_S04', 'card_tpbuz_cd_S05', 'card_tpbuz_cd_S06', 'card_tpbuz_cd_T01', 'card_tpbuz_cd_T02', 'card_tpbuz_cd_T03', 'card_tpbuz_cd_T04', 'card_tpbuz_cd_U01', 'card_tpbuz_cd_U02', 'card_tpbuz_cd_U03', 'card_tpbuz_cd_U04', 'card_tpbuz_cd_Y01', 'card_tpbuz_cd_Y02', 'card_tpbuz_cd_Y03', 'card_tpbuz_cd_Y04', 'card_tpbuz_cd_Y05', '상권변동지표구분_HH', '상권변동지표구분_HL', '상권변동지표구분_LH', '상권변동지표구분_LL'] | 8 available columns: ['admi_cty_no', 'card_tpbuz_cd', 'amt', 'cnt', 'TOTAL_POPULATION', '운영점포평균영업기간', '폐업점포평균영업기간', '상권변동지표구분']\"",
     "output_type": "error",
     "traceback": [
      "\u001b[1;31m---------------------------------------------------------------------------\u001b[0m",
      "\u001b[1;31mKeyError\u001b[0m                                  Traceback (most recent call last)",
      "File \u001b[1;32m~\\anaconda3\\envs\\hanati\\lib\\site-packages\\autogluon\\features\\generators\\abstract.py:338\u001b[0m, in \u001b[0;36mAbstractFeatureGenerator.transform\u001b[1;34m(self, X)\u001b[0m\n\u001b[0;32m    335\u001b[0m     \u001b[38;5;28;01mif\u001b[39;00m \u001b[38;5;28mlist\u001b[39m(X\u001b[38;5;241m.\u001b[39mcolumns) \u001b[38;5;241m!=\u001b[39m \u001b[38;5;28mself\u001b[39m\u001b[38;5;241m.\u001b[39mfeatures_in:\n\u001b[0;32m    336\u001b[0m         \u001b[38;5;66;03m# It comes at a cost when making a copy of the DataFrame,\u001b[39;00m\n\u001b[0;32m    337\u001b[0m         \u001b[38;5;66;03m# therefore, try avoid copying by checking the expected features first.\u001b[39;00m\n\u001b[1;32m--> 338\u001b[0m         X \u001b[38;5;241m=\u001b[39m \u001b[43mX\u001b[49m\u001b[43m[\u001b[49m\u001b[38;5;28;43mself\u001b[39;49m\u001b[38;5;241;43m.\u001b[39;49m\u001b[43mfeatures_in\u001b[49m\u001b[43m]\u001b[49m\n\u001b[0;32m    339\u001b[0m \u001b[38;5;28;01mexcept\u001b[39;00m \u001b[38;5;167;01mKeyError\u001b[39;00m:\n",
      "File \u001b[1;32m~\\anaconda3\\envs\\hanati\\lib\\site-packages\\pandas\\core\\frame.py:3767\u001b[0m, in \u001b[0;36mDataFrame.__getitem__\u001b[1;34m(self, key)\u001b[0m\n\u001b[0;32m   3766\u001b[0m         key \u001b[38;5;241m=\u001b[39m \u001b[38;5;28mlist\u001b[39m(key)\n\u001b[1;32m-> 3767\u001b[0m     indexer \u001b[38;5;241m=\u001b[39m \u001b[38;5;28;43mself\u001b[39;49m\u001b[38;5;241;43m.\u001b[39;49m\u001b[43mcolumns\u001b[49m\u001b[38;5;241;43m.\u001b[39;49m\u001b[43m_get_indexer_strict\u001b[49m\u001b[43m(\u001b[49m\u001b[43mkey\u001b[49m\u001b[43m,\u001b[49m\u001b[43m \u001b[49m\u001b[38;5;124;43m\"\u001b[39;49m\u001b[38;5;124;43mcolumns\u001b[39;49m\u001b[38;5;124;43m\"\u001b[39;49m\u001b[43m)\u001b[49m[\u001b[38;5;241m1\u001b[39m]\n\u001b[0;32m   3769\u001b[0m \u001b[38;5;66;03m# take() does not accept boolean indexers\u001b[39;00m\n",
      "File \u001b[1;32m~\\anaconda3\\envs\\hanati\\lib\\site-packages\\pandas\\core\\indexes\\base.py:5877\u001b[0m, in \u001b[0;36mIndex._get_indexer_strict\u001b[1;34m(self, key, axis_name)\u001b[0m\n\u001b[0;32m   5875\u001b[0m     keyarr, indexer, new_indexer \u001b[38;5;241m=\u001b[39m \u001b[38;5;28mself\u001b[39m\u001b[38;5;241m.\u001b[39m_reindex_non_unique(keyarr)\n\u001b[1;32m-> 5877\u001b[0m \u001b[38;5;28;43mself\u001b[39;49m\u001b[38;5;241;43m.\u001b[39;49m\u001b[43m_raise_if_missing\u001b[49m\u001b[43m(\u001b[49m\u001b[43mkeyarr\u001b[49m\u001b[43m,\u001b[49m\u001b[43m \u001b[49m\u001b[43mindexer\u001b[49m\u001b[43m,\u001b[49m\u001b[43m \u001b[49m\u001b[43maxis_name\u001b[49m\u001b[43m)\u001b[49m\n\u001b[0;32m   5879\u001b[0m keyarr \u001b[38;5;241m=\u001b[39m \u001b[38;5;28mself\u001b[39m\u001b[38;5;241m.\u001b[39mtake(indexer)\n",
      "File \u001b[1;32m~\\anaconda3\\envs\\hanati\\lib\\site-packages\\pandas\\core\\indexes\\base.py:5941\u001b[0m, in \u001b[0;36mIndex._raise_if_missing\u001b[1;34m(self, key, indexer, axis_name)\u001b[0m\n\u001b[0;32m   5940\u001b[0m not_found \u001b[38;5;241m=\u001b[39m \u001b[38;5;28mlist\u001b[39m(ensure_index(key)[missing_mask\u001b[38;5;241m.\u001b[39mnonzero()[\u001b[38;5;241m0\u001b[39m]]\u001b[38;5;241m.\u001b[39munique())\n\u001b[1;32m-> 5941\u001b[0m \u001b[38;5;28;01mraise\u001b[39;00m \u001b[38;5;167;01mKeyError\u001b[39;00m(\u001b[38;5;124mf\u001b[39m\u001b[38;5;124m\"\u001b[39m\u001b[38;5;132;01m{\u001b[39;00mnot_found\u001b[38;5;132;01m}\u001b[39;00m\u001b[38;5;124m not in index\u001b[39m\u001b[38;5;124m\"\u001b[39m)\n",
      "\u001b[1;31mKeyError\u001b[0m: \"['card_tpbuz_cd_D01', 'card_tpbuz_cd_D02', 'card_tpbuz_cd_D03', 'card_tpbuz_cd_D04', 'card_tpbuz_cd_D05', 'card_tpbuz_cd_D06', 'card_tpbuz_cd_D07', 'card_tpbuz_cd_D08', 'card_tpbuz_cd_D09', 'card_tpbuz_cd_D10', 'card_tpbuz_cd_D11', 'card_tpbuz_cd_D12', 'card_tpbuz_cd_D13', 'card_tpbuz_cd_D14', 'card_tpbuz_cd_D15', 'card_tpbuz_cd_D16', 'card_tpbuz_cd_D17', 'card_tpbuz_cd_D18', 'card_tpbuz_cd_D19', 'card_tpbuz_cd_F01', 'card_tpbuz_cd_F02', 'card_tpbuz_cd_F03', 'card_tpbuz_cd_F04', 'card_tpbuz_cd_F05', 'card_tpbuz_cd_F06', 'card_tpbuz_cd_F07', 'card_tpbuz_cd_F08', 'card_tpbuz_cd_F09', 'card_tpbuz_cd_F10', 'card_tpbuz_cd_F11', 'card_tpbuz_cd_F12', 'card_tpbuz_cd_F13', 'card_tpbuz_cd_F14', 'card_tpbuz_cd_F15', 'card_tpbuz_cd_F16', 'card_tpbuz_cd_F17', 'card_tpbuz_cd_O01', 'card_tpbuz_cd_O02', 'card_tpbuz_cd_O03', 'card_tpbuz_cd_O04', 'card_tpbuz_cd_Q01', 'card_tpbuz_cd_Q02', 'card_tpbuz_cd_Q03', 'card_tpbuz_cd_Q04', 'card_tpbuz_cd_Q05', 'card_tpbuz_cd_Q06', 'card_tpbuz_cd_Q07', 'card_tpbuz_cd_Q08', 'card_tpbuz_cd_Q09', 'card_tpbuz_cd_Q10', 'card_tpbuz_cd_Q11', 'card_tpbuz_cd_Q12', 'card_tpbuz_cd_Q13', 'card_tpbuz_cd_Q14', 'card_tpbuz_cd_Q15', 'card_tpbuz_cd_Q16', 'card_tpbuz_cd_R01', 'card_tpbuz_cd_R02', 'card_tpbuz_cd_R03', 'card_tpbuz_cd_R04', 'card_tpbuz_cd_R05', 'card_tpbuz_cd_R06', 'card_tpbuz_cd_R07', 'card_tpbuz_cd_R08', 'card_tpbuz_cd_S01', 'card_tpbuz_cd_S02', 'card_tpbuz_cd_S03', 'card_tpbuz_cd_S04', 'card_tpbuz_cd_S05', 'card_tpbuz_cd_S06', 'card_tpbuz_cd_T01', 'card_tpbuz_cd_T02', 'card_tpbuz_cd_T03', 'card_tpbuz_cd_T04', 'card_tpbuz_cd_U01', 'card_tpbuz_cd_U02', 'card_tpbuz_cd_U03', 'card_tpbuz_cd_U04', 'card_tpbuz_cd_Y01', 'card_tpbuz_cd_Y02', 'card_tpbuz_cd_Y03', 'card_tpbuz_cd_Y04', 'card_tpbuz_cd_Y05', '상권변동지표구분_HH', '상권변동지표구분_HL', '상권변동지표구분_LH', '상권변동지표구분_LL'] not in index\"",
      "\nDuring handling of the above exception, another exception occurred:\n",
      "\u001b[1;31mKeyError\u001b[0m                                  Traceback (most recent call last)",
      "Cell \u001b[1;32mIn[16], line 1\u001b[0m\n\u001b[1;32m----> 1\u001b[0m predictions \u001b[38;5;241m=\u001b[39m \u001b[43mpredictor\u001b[49m\u001b[38;5;241;43m.\u001b[39;49m\u001b[43mpredict\u001b[49m\u001b[43m(\u001b[49m\u001b[43mdf\u001b[49m\u001b[43m)\u001b[49m\n",
      "File \u001b[1;32m~\\anaconda3\\envs\\hanati\\lib\\site-packages\\autogluon\\tabular\\predictor\\predictor.py:2117\u001b[0m, in \u001b[0;36mTabularPredictor.predict\u001b[1;34m(self, data, model, as_pandas, transform_features, decision_threshold)\u001b[0m\n\u001b[0;32m   2115\u001b[0m \u001b[38;5;28;01mif\u001b[39;00m decision_threshold \u001b[38;5;129;01mis\u001b[39;00m \u001b[38;5;28;01mNone\u001b[39;00m:\n\u001b[0;32m   2116\u001b[0m     decision_threshold \u001b[38;5;241m=\u001b[39m \u001b[38;5;28mself\u001b[39m\u001b[38;5;241m.\u001b[39mdecision_threshold\n\u001b[1;32m-> 2117\u001b[0m \u001b[38;5;28;01mreturn\u001b[39;00m \u001b[38;5;28;43mself\u001b[39;49m\u001b[38;5;241;43m.\u001b[39;49m\u001b[43m_learner\u001b[49m\u001b[38;5;241;43m.\u001b[39;49m\u001b[43mpredict\u001b[49m\u001b[43m(\u001b[49m\u001b[43mX\u001b[49m\u001b[38;5;241;43m=\u001b[39;49m\u001b[43mdata\u001b[49m\u001b[43m,\u001b[49m\u001b[43m \u001b[49m\u001b[43mmodel\u001b[49m\u001b[38;5;241;43m=\u001b[39;49m\u001b[43mmodel\u001b[49m\u001b[43m,\u001b[49m\u001b[43m \u001b[49m\u001b[43mas_pandas\u001b[49m\u001b[38;5;241;43m=\u001b[39;49m\u001b[43mas_pandas\u001b[49m\u001b[43m,\u001b[49m\u001b[43m \u001b[49m\u001b[43mtransform_features\u001b[49m\u001b[38;5;241;43m=\u001b[39;49m\u001b[43mtransform_features\u001b[49m\u001b[43m,\u001b[49m\u001b[43m \u001b[49m\u001b[43mdecision_threshold\u001b[49m\u001b[38;5;241;43m=\u001b[39;49m\u001b[43mdecision_threshold\u001b[49m\u001b[43m)\u001b[49m\n",
      "File \u001b[1;32m~\\anaconda3\\envs\\hanati\\lib\\site-packages\\autogluon\\tabular\\learner\\abstract_learner.py:208\u001b[0m, in \u001b[0;36mAbstractTabularLearner.predict\u001b[1;34m(self, X, model, as_pandas, inverse_transform, transform_features, decision_threshold)\u001b[0m\n\u001b[0;32m    206\u001b[0m     decision_threshold \u001b[38;5;241m=\u001b[39m \u001b[38;5;241m0.5\u001b[39m\n\u001b[0;32m    207\u001b[0m X_index \u001b[38;5;241m=\u001b[39m copy\u001b[38;5;241m.\u001b[39mdeepcopy(X\u001b[38;5;241m.\u001b[39mindex) \u001b[38;5;28;01mif\u001b[39;00m as_pandas \u001b[38;5;28;01melse\u001b[39;00m \u001b[38;5;28;01mNone\u001b[39;00m\n\u001b[1;32m--> 208\u001b[0m y_pred_proba \u001b[38;5;241m=\u001b[39m \u001b[38;5;28;43mself\u001b[39;49m\u001b[38;5;241;43m.\u001b[39;49m\u001b[43mpredict_proba\u001b[49m\u001b[43m(\u001b[49m\n\u001b[0;32m    209\u001b[0m \u001b[43m    \u001b[49m\u001b[43mX\u001b[49m\u001b[38;5;241;43m=\u001b[39;49m\u001b[43mX\u001b[49m\u001b[43m,\u001b[49m\u001b[43m \u001b[49m\u001b[43mmodel\u001b[49m\u001b[38;5;241;43m=\u001b[39;49m\u001b[43mmodel\u001b[49m\u001b[43m,\u001b[49m\u001b[43m \u001b[49m\u001b[43mas_pandas\u001b[49m\u001b[38;5;241;43m=\u001b[39;49m\u001b[38;5;28;43;01mFalse\u001b[39;49;00m\u001b[43m,\u001b[49m\u001b[43m \u001b[49m\u001b[43mas_multiclass\u001b[49m\u001b[38;5;241;43m=\u001b[39;49m\u001b[38;5;28;43;01mFalse\u001b[39;49;00m\u001b[43m,\u001b[49m\u001b[43m \u001b[49m\u001b[43minverse_transform\u001b[49m\u001b[38;5;241;43m=\u001b[39;49m\u001b[38;5;28;43;01mFalse\u001b[39;49;00m\u001b[43m,\u001b[49m\u001b[43m \u001b[49m\u001b[43mtransform_features\u001b[49m\u001b[38;5;241;43m=\u001b[39;49m\u001b[43mtransform_features\u001b[49m\n\u001b[0;32m    210\u001b[0m \u001b[43m\u001b[49m\u001b[43m)\u001b[49m\n\u001b[0;32m    211\u001b[0m problem_type \u001b[38;5;241m=\u001b[39m \u001b[38;5;28mself\u001b[39m\u001b[38;5;241m.\u001b[39mlabel_cleaner\u001b[38;5;241m.\u001b[39mproblem_type_transform \u001b[38;5;129;01mor\u001b[39;00m \u001b[38;5;28mself\u001b[39m\u001b[38;5;241m.\u001b[39mproblem_type\n\u001b[0;32m    212\u001b[0m y_pred \u001b[38;5;241m=\u001b[39m get_pred_from_proba(y_pred_proba\u001b[38;5;241m=\u001b[39my_pred_proba, problem_type\u001b[38;5;241m=\u001b[39mproblem_type, decision_threshold\u001b[38;5;241m=\u001b[39mdecision_threshold)\n",
      "File \u001b[1;32m~\\anaconda3\\envs\\hanati\\lib\\site-packages\\autogluon\\tabular\\learner\\abstract_learner.py:188\u001b[0m, in \u001b[0;36mAbstractTabularLearner.predict_proba\u001b[1;34m(self, X, model, as_pandas, as_multiclass, inverse_transform, transform_features)\u001b[0m\n\u001b[0;32m    186\u001b[0m \u001b[38;5;28;01melse\u001b[39;00m:\n\u001b[0;32m    187\u001b[0m     \u001b[38;5;28;01mif\u001b[39;00m transform_features:\n\u001b[1;32m--> 188\u001b[0m         X \u001b[38;5;241m=\u001b[39m \u001b[38;5;28;43mself\u001b[39;49m\u001b[38;5;241;43m.\u001b[39;49m\u001b[43mtransform_features\u001b[49m\u001b[43m(\u001b[49m\u001b[43mX\u001b[49m\u001b[43m)\u001b[49m\n\u001b[0;32m    189\u001b[0m     y_pred_proba \u001b[38;5;241m=\u001b[39m \u001b[38;5;28mself\u001b[39m\u001b[38;5;241m.\u001b[39mload_trainer()\u001b[38;5;241m.\u001b[39mpredict_proba(X, model\u001b[38;5;241m=\u001b[39mmodel)\n\u001b[0;32m    190\u001b[0m y_pred_proba \u001b[38;5;241m=\u001b[39m \u001b[38;5;28mself\u001b[39m\u001b[38;5;241m.\u001b[39m_post_process_predict_proba(\n\u001b[0;32m    191\u001b[0m     y_pred_proba\u001b[38;5;241m=\u001b[39my_pred_proba, as_pandas\u001b[38;5;241m=\u001b[39mas_pandas, index\u001b[38;5;241m=\u001b[39mX_index, as_multiclass\u001b[38;5;241m=\u001b[39mas_multiclass, inverse_transform\u001b[38;5;241m=\u001b[39minverse_transform\n\u001b[0;32m    192\u001b[0m )\n",
      "File \u001b[1;32m~\\anaconda3\\envs\\hanati\\lib\\site-packages\\autogluon\\tabular\\learner\\abstract_learner.py:464\u001b[0m, in \u001b[0;36mAbstractTabularLearner.transform_features\u001b[1;34m(self, X)\u001b[0m\n\u001b[0;32m    462\u001b[0m \u001b[38;5;28;01mdef\u001b[39;00m \u001b[38;5;21mtransform_features\u001b[39m(\u001b[38;5;28mself\u001b[39m, X):\n\u001b[0;32m    463\u001b[0m     \u001b[38;5;28;01mfor\u001b[39;00m feature_generator \u001b[38;5;129;01min\u001b[39;00m \u001b[38;5;28mself\u001b[39m\u001b[38;5;241m.\u001b[39mfeature_generators:\n\u001b[1;32m--> 464\u001b[0m         X \u001b[38;5;241m=\u001b[39m \u001b[43mfeature_generator\u001b[49m\u001b[38;5;241;43m.\u001b[39;49m\u001b[43mtransform\u001b[49m\u001b[43m(\u001b[49m\u001b[43mX\u001b[49m\u001b[43m)\u001b[49m\n\u001b[0;32m    465\u001b[0m     \u001b[38;5;28;01mreturn\u001b[39;00m X\n",
      "File \u001b[1;32m~\\anaconda3\\envs\\hanati\\lib\\site-packages\\autogluon\\features\\generators\\abstract.py:344\u001b[0m, in \u001b[0;36mAbstractFeatureGenerator.transform\u001b[1;34m(self, X)\u001b[0m\n\u001b[0;32m    342\u001b[0m         \u001b[38;5;28;01mif\u001b[39;00m col \u001b[38;5;129;01mnot\u001b[39;00m \u001b[38;5;129;01min\u001b[39;00m X\u001b[38;5;241m.\u001b[39mcolumns:\n\u001b[0;32m    343\u001b[0m             missing_cols\u001b[38;5;241m.\u001b[39mappend(col)\n\u001b[1;32m--> 344\u001b[0m     \u001b[38;5;28;01mraise\u001b[39;00m \u001b[38;5;167;01mKeyError\u001b[39;00m(\n\u001b[0;32m    345\u001b[0m         \u001b[38;5;124mf\u001b[39m\u001b[38;5;124m\"\u001b[39m\u001b[38;5;132;01m{\u001b[39;00m\u001b[38;5;28mlen\u001b[39m(missing_cols)\u001b[38;5;132;01m}\u001b[39;00m\u001b[38;5;124m required columns are missing from the provided dataset to transform using \u001b[39m\u001b[38;5;132;01m{\u001b[39;00m\u001b[38;5;28mself\u001b[39m\u001b[38;5;241m.\u001b[39m\u001b[38;5;18m__class__\u001b[39m\u001b[38;5;241m.\u001b[39m\u001b[38;5;18m__name__\u001b[39m\u001b[38;5;132;01m}\u001b[39;00m\u001b[38;5;124m. \u001b[39m\u001b[38;5;124m\"\u001b[39m\n\u001b[0;32m    346\u001b[0m         \u001b[38;5;124mf\u001b[39m\u001b[38;5;124m\"\u001b[39m\u001b[38;5;132;01m{\u001b[39;00m\u001b[38;5;28mlen\u001b[39m(missing_cols)\u001b[38;5;132;01m}\u001b[39;00m\u001b[38;5;124m missing columns: \u001b[39m\u001b[38;5;132;01m{\u001b[39;00mmissing_cols\u001b[38;5;132;01m}\u001b[39;00m\u001b[38;5;124m | \u001b[39m\u001b[38;5;124m\"\u001b[39m\n\u001b[0;32m    347\u001b[0m         \u001b[38;5;124mf\u001b[39m\u001b[38;5;124m\"\u001b[39m\u001b[38;5;132;01m{\u001b[39;00m\u001b[38;5;28mlen\u001b[39m(\u001b[38;5;28mlist\u001b[39m(X\u001b[38;5;241m.\u001b[39mcolumns))\u001b[38;5;132;01m}\u001b[39;00m\u001b[38;5;124m available columns: \u001b[39m\u001b[38;5;132;01m{\u001b[39;00m\u001b[38;5;28mlist\u001b[39m(X\u001b[38;5;241m.\u001b[39mcolumns)\u001b[38;5;132;01m}\u001b[39;00m\u001b[38;5;124m\"\u001b[39m\n\u001b[0;32m    348\u001b[0m     )\n\u001b[0;32m    349\u001b[0m \u001b[38;5;28;01mif\u001b[39;00m \u001b[38;5;28mself\u001b[39m\u001b[38;5;241m.\u001b[39m_pre_astype_generator:\n\u001b[0;32m    350\u001b[0m     X \u001b[38;5;241m=\u001b[39m \u001b[38;5;28mself\u001b[39m\u001b[38;5;241m.\u001b[39m_pre_astype_generator\u001b[38;5;241m.\u001b[39mtransform(X)\n",
      "\u001b[1;31mKeyError\u001b[0m: \"87 required columns are missing from the provided dataset to transform using AutoMLPipelineFeatureGenerator. 87 missing columns: ['card_tpbuz_cd_D01', 'card_tpbuz_cd_D02', 'card_tpbuz_cd_D03', 'card_tpbuz_cd_D04', 'card_tpbuz_cd_D05', 'card_tpbuz_cd_D06', 'card_tpbuz_cd_D07', 'card_tpbuz_cd_D08', 'card_tpbuz_cd_D09', 'card_tpbuz_cd_D10', 'card_tpbuz_cd_D11', 'card_tpbuz_cd_D12', 'card_tpbuz_cd_D13', 'card_tpbuz_cd_D14', 'card_tpbuz_cd_D15', 'card_tpbuz_cd_D16', 'card_tpbuz_cd_D17', 'card_tpbuz_cd_D18', 'card_tpbuz_cd_D19', 'card_tpbuz_cd_F01', 'card_tpbuz_cd_F02', 'card_tpbuz_cd_F03', 'card_tpbuz_cd_F04', 'card_tpbuz_cd_F05', 'card_tpbuz_cd_F06', 'card_tpbuz_cd_F07', 'card_tpbuz_cd_F08', 'card_tpbuz_cd_F09', 'card_tpbuz_cd_F10', 'card_tpbuz_cd_F11', 'card_tpbuz_cd_F12', 'card_tpbuz_cd_F13', 'card_tpbuz_cd_F14', 'card_tpbuz_cd_F15', 'card_tpbuz_cd_F16', 'card_tpbuz_cd_F17', 'card_tpbuz_cd_O01', 'card_tpbuz_cd_O02', 'card_tpbuz_cd_O03', 'card_tpbuz_cd_O04', 'card_tpbuz_cd_Q01', 'card_tpbuz_cd_Q02', 'card_tpbuz_cd_Q03', 'card_tpbuz_cd_Q04', 'card_tpbuz_cd_Q05', 'card_tpbuz_cd_Q06', 'card_tpbuz_cd_Q07', 'card_tpbuz_cd_Q08', 'card_tpbuz_cd_Q09', 'card_tpbuz_cd_Q10', 'card_tpbuz_cd_Q11', 'card_tpbuz_cd_Q12', 'card_tpbuz_cd_Q13', 'card_tpbuz_cd_Q14', 'card_tpbuz_cd_Q15', 'card_tpbuz_cd_Q16', 'card_tpbuz_cd_R01', 'card_tpbuz_cd_R02', 'card_tpbuz_cd_R03', 'card_tpbuz_cd_R04', 'card_tpbuz_cd_R05', 'card_tpbuz_cd_R06', 'card_tpbuz_cd_R07', 'card_tpbuz_cd_R08', 'card_tpbuz_cd_S01', 'card_tpbuz_cd_S02', 'card_tpbuz_cd_S03', 'card_tpbuz_cd_S04', 'card_tpbuz_cd_S05', 'card_tpbuz_cd_S06', 'card_tpbuz_cd_T01', 'card_tpbuz_cd_T02', 'card_tpbuz_cd_T03', 'card_tpbuz_cd_T04', 'card_tpbuz_cd_U01', 'card_tpbuz_cd_U02', 'card_tpbuz_cd_U03', 'card_tpbuz_cd_U04', 'card_tpbuz_cd_Y01', 'card_tpbuz_cd_Y02', 'card_tpbuz_cd_Y03', 'card_tpbuz_cd_Y04', 'card_tpbuz_cd_Y05', '상권변동지표구분_HH', '상권변동지표구분_HL', '상권변동지표구분_LH', '상권변동지표구분_LL'] | 8 available columns: ['admi_cty_no', 'card_tpbuz_cd', 'amt', 'cnt', 'TOTAL_POPULATION', '운영점포평균영업기간', '폐업점포평균영업기간', '상권변동지표구분']\""
     ]
    }
   ],
   "source": [
    "predictions = predictor.predict(df)"
   ]
  },
  {
   "cell_type": "code",
   "execution_count": null,
   "id": "c86d878c-a467-4d9b-89ca-2d17b76ca4a7",
   "metadata": {},
   "outputs": [],
   "source": []
  }
 ],
 "metadata": {
  "kernelspec": {
   "display_name": "Python 3 (ipykernel)",
   "language": "python",
   "name": "python3"
  },
  "language_info": {
   "codemirror_mode": {
    "name": "ipython",
    "version": 3
   },
   "file_extension": ".py",
   "mimetype": "text/x-python",
   "name": "python",
   "nbconvert_exporter": "python",
   "pygments_lexer": "ipython3",
   "version": "3.8.18"
  }
 },
 "nbformat": 4,
 "nbformat_minor": 5
}
