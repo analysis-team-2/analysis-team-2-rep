{
 "cells": [
  {
   "cell_type": "code",
   "execution_count": 10,
   "id": "f1006b2b-9180-4a26-a99c-bed5370ddbcd",
   "metadata": {},
   "outputs": [
    {
     "name": "stderr",
     "output_type": "stream",
     "text": [
      "data with frequency 'None' has been resampled to frequency 'D'.\n"
     ]
    },
    {
     "name": "stdout",
     "output_type": "stream",
     "text": [
      "[{\"timestamp\":\"2024-07-01T00:00:00.000\",\"mean\":8102644.572796314},{\"timestamp\":\"2024-07-02T00:00:00.000\",\"mean\":6380614.6132353591},{\"timestamp\":\"2024-07-03T00:00:00.000\",\"mean\":6067086.3271030663},{\"timestamp\":\"2024-07-04T00:00:00.000\",\"mean\":5543806.2588665821},{\"timestamp\":\"2024-07-05T00:00:00.000\",\"mean\":7314335.0451122038},{\"timestamp\":\"2024-07-06T00:00:00.000\",\"mean\":12497728.3113838937},{\"timestamp\":\"2024-07-07T00:00:00.000\",\"mean\":15313737.178039996},{\"timestamp\":\"2024-07-08T00:00:00.000\",\"mean\":8102620.6016485672},{\"timestamp\":\"2024-07-09T00:00:00.000\",\"mean\":6380573.4078331674},{\"timestamp\":\"2024-07-10T00:00:00.000\",\"mean\":6067108.1057777302},{\"timestamp\":\"2024-07-11T00:00:00.000\",\"mean\":5543819.3718142286},{\"timestamp\":\"2024-07-12T00:00:00.000\",\"mean\":7314336.3395851515},{\"timestamp\":\"2024-07-13T00:00:00.000\",\"mean\":12497697.2809913438},{\"timestamp\":\"2024-07-14T00:00:00.000\",\"mean\":15313688.7515588216},{\"timestamp\":\"2024-07-15T00:00:00.000\",\"mean\":8102632.7904250426},{\"timestamp\":\"2024-07-16T00:00:00.000\",\"mean\":6380594.3459388027},{\"timestamp\":\"2024-07-17T00:00:00.000\",\"mean\":6067097.0530670872},{\"timestamp\":\"2024-07-18T00:00:00.000\",\"mean\":5543812.7189384792},{\"timestamp\":\"2024-07-19T00:00:00.000\",\"mean\":7314335.6907213163},{\"timestamp\":\"2024-07-20T00:00:00.000\",\"mean\":12497713.0546353385},{\"timestamp\":\"2024-07-21T00:00:00.000\",\"mean\":15313713.3621725682},{\"timestamp\":\"2024-07-22T00:00:00.000\",\"mean\":8102626.6069674892},{\"timestamp\":\"2024-07-23T00:00:00.000\",\"mean\":6380583.7166875815},{\"timestamp\":\"2024-07-24T00:00:00.000\",\"mean\":6067102.6711527575},{\"timestamp\":\"2024-07-25T00:00:00.000\",\"mean\":5543816.1016171025},{\"timestamp\":\"2024-07-26T00:00:00.000\",\"mean\":7314336.0247311788},{\"timestamp\":\"2024-07-27T00:00:00.000\",\"mean\":12497705.0501907989},{\"timestamp\":\"2024-07-28T00:00:00.000\",\"mean\":15313700.8702580929},{\"timestamp\":\"2024-07-29T00:00:00.000\",\"mean\":8102629.7512551518}]\n"
     ]
    }
   ],
   "source": [
    "import pandas as pd\n",
    "from autogluon.timeseries import TimeSeriesPredictor, TimeSeriesDataFrame\n",
    "\n",
    "def load_and_predict(model_name, item_id):\n",
    "    # 모델 경로 설정\n",
    "    model_paths = {\n",
    "        '광명시': 'models2/merged_data_gm',\n",
    "        '시흥시': 'models2/merged_data_sh',\n",
    "        '수원시': 'models2/merged_data_sw',\n",
    "        '안양시': 'models2/merged_data_yy',\n",
    "        '화성시': 'models2/merged_data_hs'\n",
    "    }\n",
    "    \n",
    "    if model_name not in model_paths:\n",
    "        raise ValueError(\"Invalid model name provided.\")\n",
    "    \n",
    "    model_path = model_paths[model_name]\n",
    "    \n",
    "    # 모델 로드\n",
    "    predictor = TimeSeriesPredictor.load(model_path)\n",
    "    \n",
    "    # 데이터 로드 및 변환\n",
    "    file_path = \"./train_data_time.csv\"\n",
    "    df = pd.read_csv(file_path)\n",
    "    df = TimeSeriesDataFrame.from_data_frame(\n",
    "        df,\n",
    "        id_column=\"item_id\",\n",
    "        timestamp_column=\"timestamp\"\n",
    "    )\n",
    "    \n",
    "    # 예측 수행\n",
    "    predictions = predictor.predict(df)\n",
    "    \n",
    "    # 2024-07-01부터 끝까지의 결과 필터링\n",
    "    predictions = predictions.loc[item_id, ['mean']].reset_index()\n",
    "    predictions = predictions[predictions['timestamp'] >= '2024-07-01']\n",
    "    # predictor.plot(df, predictions, quantile_levels=[0.1, 0.9], max_history_length=200, max_num_item_ids=4)\n",
    "    return predictions\n",
    "\n",
    "# 사용 예제\n",
    "model_name = '안양시'  # 사용자가 입력하는 모델 이름\n",
    "item_id = 'D01'  # 예측할 item_id\n",
    "predictions = load_and_predict(model_name, item_id)\n",
    "# print(predictions)\n",
    "# 예측 결과를 JSON 형식으로 변환 및 출력\n",
    "predictions_json = predictions.to_json(orient='records', date_format='iso')\n",
    "print(predictions_json)"
   ]
  },
  {
   "cell_type": "code",
   "execution_count": 12,
   "id": "5502c553-c1d0-4204-902c-eef8d5dc9d95",
   "metadata": {},
   "outputs": [
    {
     "name": "stderr",
     "output_type": "stream",
     "text": [
      "WARNING: Ignoring invalid distribution -atplotlib (c:\\users\\da\\anaconda3\\envs\\hanati\\lib\\site-packages)\n",
      "WARNING: Ignoring invalid distribution -atplotlib (c:\\users\\da\\anaconda3\\envs\\hanati\\lib\\site-packages)\n"
     ]
    }
   ],
   "source": [
    "%load_ext autoreload\n",
    "%autoreload 2\n",
    "!pip install -qU shap"
   ]
  },
  {
   "cell_type": "code",
   "execution_count": 13,
   "id": "5da0be72-aff1-4bb0-8a3e-87c886304b0a",
   "metadata": {},
   "outputs": [],
   "source": [
    "import shap"
   ]
  },
  {
   "cell_type": "code",
   "execution_count": null,
   "id": "f7bba096-09e3-4d53-af47-142e789f94bf",
   "metadata": {},
   "outputs": [],
   "source": []
  }
 ],
 "metadata": {
  "kernelspec": {
   "display_name": "hanati",
   "language": "python",
   "name": "hanati"
  },
  "language_info": {
   "codemirror_mode": {
    "name": "ipython",
    "version": 3
   },
   "file_extension": ".py",
   "mimetype": "text/x-python",
   "name": "python",
   "nbconvert_exporter": "python",
   "pygments_lexer": "ipython3",
   "version": "3.8.18"
  }
 },
 "nbformat": 4,
 "nbformat_minor": 5
}
