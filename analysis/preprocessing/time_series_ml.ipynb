{
 "cells": [
  {
   "cell_type": "markdown",
   "id": "e6225bbc-396a-414e-b8a2-073c3507f993",
   "metadata": {},
   "source": [
    "## 카드 소비 데이터"
   ]
  },
  {
   "cell_type": "code",
   "execution_count": 1,
   "id": "b026e917-48a1-44c0-83e3-9e65bfce657b",
   "metadata": {},
   "outputs": [],
   "source": [
    "from autogluon.tabular import TabularDataset, TabularPredictor\n",
    "import dask.dataframe as dd\n",
    "import vaex"
   ]
  },
  {
   "cell_type": "code",
   "execution_count": 2,
   "id": "b7738d7d-72bc-45fb-a00f-7d96f8da3ab7",
   "metadata": {},
   "outputs": [],
   "source": [
    "import pandas as pd\n",
    "import numpy as np\n",
    "import matplotlib.pyplot as plt\n",
    "import seaborn as sns\n",
    "\n",
    "import scipy.stats as spst"
   ]
  },
  {
   "cell_type": "code",
   "execution_count": 3,
   "id": "43df884b-16fa-47b3-8404-6cee1196b716",
   "metadata": {},
   "outputs": [],
   "source": [
    "data = '../data/five_city_data/merged_gyeonggi_day.csv'"
   ]
  },
  {
   "cell_type": "code",
   "execution_count": 4,
   "id": "faeea7bb-6211-43c4-9362-a9baa09ed667",
   "metadata": {},
   "outputs": [],
   "source": [
    "# Dask로 5개 주요시 데이터 읽기\n",
    "card_df = dd.read_csv(data,encoding='utf-8')\n"
   ]
  },
  {
   "cell_type": "code",
   "execution_count": 5,
   "id": "a6f6e35e-0ec4-455b-bb8a-fce719b1ebc5",
   "metadata": {
    "scrolled": true
   },
   "outputs": [
    {
     "data": {
      "text/html": [
       "<div>\n",
       "<style scoped>\n",
       "    .dataframe tbody tr th:only-of-type {\n",
       "        vertical-align: middle;\n",
       "    }\n",
       "\n",
       "    .dataframe tbody tr th {\n",
       "        vertical-align: top;\n",
       "    }\n",
       "\n",
       "    .dataframe thead th {\n",
       "        text-align: right;\n",
       "    }\n",
       "</style>\n",
       "<table border=\"1\" class=\"dataframe\">\n",
       "  <thead>\n",
       "    <tr style=\"text-align: right;\">\n",
       "      <th></th>\n",
       "      <th>ta_ymd</th>\n",
       "      <th>cty_rgn_no</th>\n",
       "      <th>admi_cty_no</th>\n",
       "      <th>card_tpbuz_cd</th>\n",
       "      <th>card_tpbuz_nm_1</th>\n",
       "      <th>card_tpbuz_nm_2</th>\n",
       "      <th>hour</th>\n",
       "      <th>sex</th>\n",
       "      <th>age</th>\n",
       "      <th>day</th>\n",
       "      <th>amt</th>\n",
       "      <th>cnt</th>\n",
       "    </tr>\n",
       "  </thead>\n",
       "  <tbody>\n",
       "    <tr>\n",
       "      <th>0</th>\n",
       "      <td>20230101</td>\n",
       "      <td>41210</td>\n",
       "      <td>41210510</td>\n",
       "      <td>D05</td>\n",
       "      <td>소매/유통</td>\n",
       "      <td>선물/완구</td>\n",
       "      <td>3</td>\n",
       "      <td>M</td>\n",
       "      <td>5</td>\n",
       "      <td>7</td>\n",
       "      <td>57576</td>\n",
       "      <td>2</td>\n",
       "    </tr>\n",
       "    <tr>\n",
       "      <th>1</th>\n",
       "      <td>20230101</td>\n",
       "      <td>41210</td>\n",
       "      <td>41210510</td>\n",
       "      <td>D11</td>\n",
       "      <td>소매/유통</td>\n",
       "      <td>종합소매점</td>\n",
       "      <td>3</td>\n",
       "      <td>F</td>\n",
       "      <td>7</td>\n",
       "      <td>7</td>\n",
       "      <td>8523</td>\n",
       "      <td>2</td>\n",
       "    </tr>\n",
       "    <tr>\n",
       "      <th>2</th>\n",
       "      <td>20230101</td>\n",
       "      <td>41210</td>\n",
       "      <td>41210510</td>\n",
       "      <td>D11</td>\n",
       "      <td>소매/유통</td>\n",
       "      <td>종합소매점</td>\n",
       "      <td>7</td>\n",
       "      <td>F</td>\n",
       "      <td>7</td>\n",
       "      <td>7</td>\n",
       "      <td>8023</td>\n",
       "      <td>2</td>\n",
       "    </tr>\n",
       "    <tr>\n",
       "      <th>3</th>\n",
       "      <td>20230101</td>\n",
       "      <td>41210</td>\n",
       "      <td>41210510</td>\n",
       "      <td>F02</td>\n",
       "      <td>생활서비스</td>\n",
       "      <td>미용서비스</td>\n",
       "      <td>3</td>\n",
       "      <td>M</td>\n",
       "      <td>4</td>\n",
       "      <td>7</td>\n",
       "      <td>28532</td>\n",
       "      <td>2</td>\n",
       "    </tr>\n",
       "    <tr>\n",
       "      <th>4</th>\n",
       "      <td>20230101</td>\n",
       "      <td>41210</td>\n",
       "      <td>41210510</td>\n",
       "      <td>F02</td>\n",
       "      <td>생활서비스</td>\n",
       "      <td>미용서비스</td>\n",
       "      <td>4</td>\n",
       "      <td>F</td>\n",
       "      <td>7</td>\n",
       "      <td>7</td>\n",
       "      <td>74074</td>\n",
       "      <td>2</td>\n",
       "    </tr>\n",
       "  </tbody>\n",
       "</table>\n",
       "</div>"
      ],
      "text/plain": [
       "     ta_ymd  cty_rgn_no  admi_cty_no card_tpbuz_cd card_tpbuz_nm_1  \\\n",
       "0  20230101       41210     41210510           D05           소매/유통   \n",
       "1  20230101       41210     41210510           D11           소매/유통   \n",
       "2  20230101       41210     41210510           D11           소매/유통   \n",
       "3  20230101       41210     41210510           F02           생활서비스   \n",
       "4  20230101       41210     41210510           F02           생활서비스   \n",
       "\n",
       "  card_tpbuz_nm_2  hour sex  age  day    amt  cnt  \n",
       "0           선물/완구     3   M    5    7  57576    2  \n",
       "1           종합소매점     3   F    7    7   8523    2  \n",
       "2           종합소매점     7   F    7    7   8023    2  \n",
       "3           미용서비스     3   M    4    7  28532    2  \n",
       "4           미용서비스     4   F    7    7  74074    2  "
      ]
     },
     "execution_count": 5,
     "metadata": {},
     "output_type": "execute_result"
    }
   ],
   "source": [
    "card_df.head()"
   ]
  },
  {
   "cell_type": "code",
   "execution_count": 6,
   "id": "73ddf59a-93bf-42fd-b99f-2e16f3397161",
   "metadata": {},
   "outputs": [
    {
     "data": {
      "text/plain": [
       "Dask Series Structure:\n",
       "npartitions=1\n",
       "admi_cty_no    int64\n",
       "ta_ymd           ...\n",
       "dtype: int64\n",
       "Dask Name: dataframe-sum-agg, 4 graph layers"
      ]
     },
     "execution_count": 6,
     "metadata": {},
     "output_type": "execute_result"
    }
   ],
   "source": [
    "card_df.isna().sum()"
   ]
  },
  {
   "cell_type": "code",
   "execution_count": 7,
   "id": "1fb43b0a-9dd6-415a-be84-8725ebc2f27e",
   "metadata": {},
   "outputs": [
    {
     "data": {
      "text/plain": [
       "ta_ymd             115322615\n",
       "cty_rgn_no         115322615\n",
       "admi_cty_no        115322615\n",
       "card_tpbuz_cd      115322615\n",
       "card_tpbuz_nm_1    115322615\n",
       "card_tpbuz_nm_2    115322615\n",
       "hour               115322615\n",
       "sex                115322615\n",
       "age                115322615\n",
       "day                115322615\n",
       "amt                115322615\n",
       "cnt                115322615\n",
       "dtype: int64"
      ]
     },
     "execution_count": 7,
     "metadata": {},
     "output_type": "execute_result"
    }
   ],
   "source": [
    "card_df.count().compute(scheduler='processes', num_workers=2)"
   ]
  },
  {
   "cell_type": "code",
   "execution_count": 8,
   "id": "64ca1738-2838-4211-b827-2cf692c183d7",
   "metadata": {},
   "outputs": [],
   "source": [
    "#card_df.sort_values(by=['ta_ymd', 'card_tpbuz_nm_1','card_tpbuz_nm_2'])"
   ]
  },
  {
   "cell_type": "code",
   "execution_count": 9,
   "id": "ea7f03a5-f691-4be9-9123-187f0425b81f",
   "metadata": {},
   "outputs": [],
   "source": [
    "#card_df.groupby(['ta_ymd', 'card_tpbuz_nm_1','card_tpbuz_nm_2', 'sex'])"
   ]
  },
  {
   "cell_type": "code",
   "execution_count": 10,
   "id": "cee34c1e-0714-4fca-827d-1ef82e3ea07f",
   "metadata": {},
   "outputs": [
    {
     "data": {
      "text/plain": [
       "11"
      ]
     },
     "execution_count": 10,
     "metadata": {},
     "output_type": "execute_result"
    }
   ],
   "source": [
    "card_df['cty_rgn_no'].nunique().compute()"
   ]
  },
  {
   "cell_type": "markdown",
   "id": "6a11dd05-e08e-4926-a840-b20c811cc841",
   "metadata": {},
   "source": [
    "### 코드를 위한 데이터 분리 및 결합"
   ]
  },
  {
   "cell_type": "code",
   "execution_count": 11,
   "id": "e003a665-232b-4a44-b74e-1598a954e875",
   "metadata": {},
   "outputs": [],
   "source": [
    "code_mapping = card_df[[\"card_tpbuz_cd\",\t\"card_tpbuz_nm_1\",\t\"card_tpbuz_nm_2\"\t]].drop_duplicates()"
   ]
  },
  {
   "cell_type": "code",
   "execution_count": 12,
   "id": "bc264c13-e3eb-422a-a064-257f79553a94",
   "metadata": {},
   "outputs": [],
   "source": [
    "#해당 일, 특정행정동의 업종별, 연령별, 나이별 매출액 평균과 매출 건수\n",
    "# grouped_df = card_df.groupby([\"ta_ymd\", \"admi_cty_no\", \"card_tpbuz_cd\", \"sex\", \"age\"]).agg({\"amt\": \"mean\", \"cnt\": \"sum\"}).reset_index()"
   ]
  },
  {
   "cell_type": "code",
   "execution_count": 13,
   "id": "b5211db1-112b-4494-9d1c-991870da48b6",
   "metadata": {},
   "outputs": [],
   "source": [
    "# grouped_df.sort_values(by=[\"ta_ymd\", \"card_tpbuz_cd\",\"admi_cty_no\"])"
   ]
  },
  {
   "cell_type": "code",
   "execution_count": 14,
   "id": "1b8ee59a-68c3-4e13-84dd-9017d5f3d89f",
   "metadata": {},
   "outputs": [],
   "source": [
    "# 해당 일의 해당동의 업종 별 매출 평균\n",
    "time_df = card_df.groupby([\"ta_ymd\", \"admi_cty_no\", \"card_tpbuz_cd\"]).agg({\"amt\": \"mean\"}).reset_index()\n",
    "# time_df의 해당 일의 해당 업종의 평균\n",
    "time_df2 = time_df.groupby(['ta_ymd',\t'card_tpbuz_cd']).agg({\"amt\": \"mean\"}).reset_index()"
   ]
  },
  {
   "cell_type": "code",
   "execution_count": 15,
   "id": "c4c24165-0bdc-4360-8290-3befac68c3a7",
   "metadata": {},
   "outputs": [
    {
     "data": {
      "text/html": [
       "<div>\n",
       "<style scoped>\n",
       "    .dataframe tbody tr th:only-of-type {\n",
       "        vertical-align: middle;\n",
       "    }\n",
       "\n",
       "    .dataframe tbody tr th {\n",
       "        vertical-align: top;\n",
       "    }\n",
       "\n",
       "    .dataframe thead th {\n",
       "        text-align: right;\n",
       "    }\n",
       "</style>\n",
       "<table border=\"1\" class=\"dataframe\">\n",
       "  <thead>\n",
       "    <tr style=\"text-align: right;\">\n",
       "      <th></th>\n",
       "      <th>ta_ymd</th>\n",
       "      <th>card_tpbuz_cd</th>\n",
       "      <th>amt</th>\n",
       "    </tr>\n",
       "  </thead>\n",
       "  <tbody>\n",
       "    <tr>\n",
       "      <th>0</th>\n",
       "      <td>20230101</td>\n",
       "      <td>D05</td>\n",
       "      <td>107508.458419</td>\n",
       "    </tr>\n",
       "    <tr>\n",
       "      <th>1</th>\n",
       "      <td>20230101</td>\n",
       "      <td>D11</td>\n",
       "      <td>872746.393065</td>\n",
       "    </tr>\n",
       "    <tr>\n",
       "      <th>2</th>\n",
       "      <td>20230101</td>\n",
       "      <td>F02</td>\n",
       "      <td>202663.628225</td>\n",
       "    </tr>\n",
       "    <tr>\n",
       "      <th>3</th>\n",
       "      <td>20230101</td>\n",
       "      <td>Q01</td>\n",
       "      <td>191551.970288</td>\n",
       "    </tr>\n",
       "    <tr>\n",
       "      <th>4</th>\n",
       "      <td>20230101</td>\n",
       "      <td>Q15</td>\n",
       "      <td>383799.991835</td>\n",
       "    </tr>\n",
       "  </tbody>\n",
       "</table>\n",
       "</div>"
      ],
      "text/plain": [
       "     ta_ymd card_tpbuz_cd            amt\n",
       "0  20230101           D05  107508.458419\n",
       "1  20230101           D11  872746.393065\n",
       "2  20230101           F02  202663.628225\n",
       "3  20230101           Q01  191551.970288\n",
       "4  20230101           Q15  383799.991835"
      ]
     },
     "execution_count": 15,
     "metadata": {},
     "output_type": "execute_result"
    }
   ],
   "source": [
    "time_df2.head()"
   ]
  },
  {
   "cell_type": "code",
   "execution_count": 16,
   "id": "6ef144e2-0de9-43cb-aa7a-421d592d8a98",
   "metadata": {},
   "outputs": [],
   "source": [
    "#grouped_df['ta_ymd'] = pd.to_datetime(grouped_df['ta_ymd'], format='%Y%m%d')\n",
    "# 다음날 매출을 라벨로 추가\n",
    "#grouped_df['next_day_sales'] = grouped_df.groupby(['admi_cty_no', 'card_tpbuz_cd', 'sex', 'age'])['amt'].shift(-1)\n",
    "# 데이터 확인\n",
    "# grouped_df[(grouped_df['ta_ymd'] == '2023-01-01') & \n",
    "#                              (grouped_df['admi_cty_no'] == 41210510) & \n",
    "#                              (grouped_df['card_tpbuz_cd'] == 'F02')]"
   ]
  },
  {
   "cell_type": "code",
   "execution_count": 17,
   "id": "967235b4-7804-4343-8d15-fd661c554a2f",
   "metadata": {},
   "outputs": [
    {
     "data": {
      "text/plain": [
       "40104"
      ]
     },
     "execution_count": 17,
     "metadata": {},
     "output_type": "execute_result"
    }
   ],
   "source": [
    "# 40104\n",
    "len(time_df2)"
   ]
  },
  {
   "cell_type": "code",
   "execution_count": null,
   "id": "45a98093-4a8b-4812-a660-5df1915399f2",
   "metadata": {},
   "outputs": [],
   "source": []
  },
  {
   "cell_type": "markdown",
   "id": "07ea4cbb-be2a-436d-8eb1-e08a6014c1ce",
   "metadata": {},
   "source": [
    "### 날짜 타입 변환"
   ]
  },
  {
   "cell_type": "code",
   "execution_count": 18,
   "id": "eb1ec9ed-1c5c-4e42-a88e-cae8467dae1a",
   "metadata": {},
   "outputs": [],
   "source": [
    "time_df2 = time_df2.compute()"
   ]
  },
  {
   "cell_type": "code",
   "execution_count": 19,
   "id": "ff4745c7-99fd-4628-bb60-4637adf2f7fb",
   "metadata": {},
   "outputs": [],
   "source": [
    "# time_df2['ta_ymd'] = time_df2['ta_ymd'].astype(str)\n",
    "time_df2['ta_ymd'] = pd.to_datetime(time_df2['ta_ymd'], format='%Y%m%d')"
   ]
  },
  {
   "cell_type": "markdown",
   "id": "0c013a0a-3994-4302-b1c0-426b48b930c8",
   "metadata": {},
   "source": [
    "## 모델 학습 -> AutoML 활용"
   ]
  },
  {
   "cell_type": "code",
   "execution_count": 20,
   "id": "d4d59798-33db-4d2c-8e7b-4e50f4b3bbbb",
   "metadata": {},
   "outputs": [],
   "source": [
    "# autogluon 사용\n",
    "from autogluon.timeseries import TimeSeriesDataFrame, TimeSeriesPredictor"
   ]
  },
  {
   "cell_type": "code",
   "execution_count": 21,
   "id": "5272f1f9-59b9-4f40-96a5-de0010d4c736",
   "metadata": {},
   "outputs": [],
   "source": [
    "# train, test 분리\n",
    "from sklearn.model_selection import train_test_split\n",
    "train_df, test_df = train_test_split(time_df2, test_size=0.2, random_state=42)"
   ]
  },
  {
   "cell_type": "code",
   "execution_count": 22,
   "id": "b689d1c3-e879-48ac-82ba-15a1040a7a4d",
   "metadata": {},
   "outputs": [],
   "source": [
    "train_data = TimeSeriesDataFrame.from_data_frame(train_df, id_column = \"card_tpbuz_cd\", timestamp_column=\"ta_ymd\")"
   ]
  },
  {
   "cell_type": "code",
   "execution_count": 23,
   "id": "1177bd22-915c-4cf4-970b-a1a7cd07402a",
   "metadata": {},
   "outputs": [
    {
     "data": {
      "text/html": [
       "<div>\n",
       "<style scoped>\n",
       "    .dataframe tbody tr th:only-of-type {\n",
       "        vertical-align: middle;\n",
       "    }\n",
       "\n",
       "    .dataframe tbody tr th {\n",
       "        vertical-align: top;\n",
       "    }\n",
       "\n",
       "    .dataframe thead th {\n",
       "        text-align: right;\n",
       "    }\n",
       "</style>\n",
       "<table border=\"1\" class=\"dataframe\">\n",
       "  <thead>\n",
       "    <tr style=\"text-align: right;\">\n",
       "      <th></th>\n",
       "      <th></th>\n",
       "      <th>amt</th>\n",
       "    </tr>\n",
       "    <tr>\n",
       "      <th>item_id</th>\n",
       "      <th>timestamp</th>\n",
       "      <th></th>\n",
       "    </tr>\n",
       "  </thead>\n",
       "  <tbody>\n",
       "    <tr>\n",
       "      <th>F13</th>\n",
       "      <th>2023-11-22</th>\n",
       "      <td>248676.084841</td>\n",
       "    </tr>\n",
       "    <tr>\n",
       "      <th>D18</th>\n",
       "      <th>2023-02-07</th>\n",
       "      <td>401040.608796</td>\n",
       "    </tr>\n",
       "    <tr>\n",
       "      <th>Q16</th>\n",
       "      <th>2023-05-31</th>\n",
       "      <td>59478.441461</td>\n",
       "    </tr>\n",
       "    <tr>\n",
       "      <th>S01</th>\n",
       "      <th>2023-08-14</th>\n",
       "      <td>180842.652182</td>\n",
       "    </tr>\n",
       "    <tr>\n",
       "      <th>Y05</th>\n",
       "      <th>2024-01-02</th>\n",
       "      <td>629632.694940</td>\n",
       "    </tr>\n",
       "    <tr>\n",
       "      <th>...</th>\n",
       "      <th>...</th>\n",
       "      <td>...</td>\n",
       "    </tr>\n",
       "    <tr>\n",
       "      <th>R05</th>\n",
       "      <th>2023-03-19</th>\n",
       "      <td>557640.607402</td>\n",
       "    </tr>\n",
       "    <tr>\n",
       "      <th>F10</th>\n",
       "      <th>2023-05-19</th>\n",
       "      <td>439777.803723</td>\n",
       "    </tr>\n",
       "    <tr>\n",
       "      <th>S02</th>\n",
       "      <th>2024-04-08</th>\n",
       "      <td>282288.052439</td>\n",
       "    </tr>\n",
       "    <tr>\n",
       "      <th>F13</th>\n",
       "      <th>2023-01-12</th>\n",
       "      <td>358973.195764</td>\n",
       "    </tr>\n",
       "    <tr>\n",
       "      <th>O01</th>\n",
       "      <th>2023-07-12</th>\n",
       "      <td>146789.709104</td>\n",
       "    </tr>\n",
       "  </tbody>\n",
       "</table>\n",
       "<p>32083 rows × 1 columns</p>\n",
       "</div>"
      ],
      "text/plain": [
       "                              amt\n",
       "item_id timestamp                \n",
       "F13     2023-11-22  248676.084841\n",
       "D18     2023-02-07  401040.608796\n",
       "Q16     2023-05-31   59478.441461\n",
       "S01     2023-08-14  180842.652182\n",
       "Y05     2024-01-02  629632.694940\n",
       "...                           ...\n",
       "R05     2023-03-19  557640.607402\n",
       "F10     2023-05-19  439777.803723\n",
       "S02     2024-04-08  282288.052439\n",
       "F13     2023-01-12  358973.195764\n",
       "O01     2023-07-12  146789.709104\n",
       "\n",
       "[32083 rows x 1 columns]"
      ]
     },
     "execution_count": 23,
     "metadata": {},
     "output_type": "execute_result"
    }
   ],
   "source": [
    "train_data"
   ]
  },
  {
   "cell_type": "code",
   "execution_count": null,
   "id": "b6cac9ad-6e9a-4a66-8a8c-0ad842ff76bf",
   "metadata": {},
   "outputs": [],
   "source": []
  },
  {
   "cell_type": "code",
   "execution_count": 24,
   "id": "b0489836-562b-4e9a-8663-fbcbe20e3374",
   "metadata": {},
   "outputs": [],
   "source": [
    "train_data = TimeSeriesDataFrame.from_data_frame(time_df2, id_column = \"card_tpbuz_cd\", timestamp_column=\"ta_ymd\")"
   ]
  },
  {
   "cell_type": "code",
   "execution_count": 25,
   "id": "3f7a28d7-2852-476d-9ff6-77bdf743504a",
   "metadata": {},
   "outputs": [
    {
     "data": {
      "text/html": [
       "<div>\n",
       "<style scoped>\n",
       "    .dataframe tbody tr th:only-of-type {\n",
       "        vertical-align: middle;\n",
       "    }\n",
       "\n",
       "    .dataframe tbody tr th {\n",
       "        vertical-align: top;\n",
       "    }\n",
       "\n",
       "    .dataframe thead th {\n",
       "        text-align: right;\n",
       "    }\n",
       "</style>\n",
       "<table border=\"1\" class=\"dataframe\">\n",
       "  <thead>\n",
       "    <tr style=\"text-align: right;\">\n",
       "      <th></th>\n",
       "      <th></th>\n",
       "      <th>amt</th>\n",
       "    </tr>\n",
       "    <tr>\n",
       "      <th>item_id</th>\n",
       "      <th>timestamp</th>\n",
       "      <th></th>\n",
       "    </tr>\n",
       "  </thead>\n",
       "  <tbody>\n",
       "    <tr>\n",
       "      <th>D05</th>\n",
       "      <th>2023-01-01</th>\n",
       "      <td>107508.458419</td>\n",
       "    </tr>\n",
       "    <tr>\n",
       "      <th>D11</th>\n",
       "      <th>2023-01-01</th>\n",
       "      <td>872746.393065</td>\n",
       "    </tr>\n",
       "    <tr>\n",
       "      <th>F02</th>\n",
       "      <th>2023-01-01</th>\n",
       "      <td>202663.628225</td>\n",
       "    </tr>\n",
       "    <tr>\n",
       "      <th>Q01</th>\n",
       "      <th>2023-01-01</th>\n",
       "      <td>191551.970288</td>\n",
       "    </tr>\n",
       "    <tr>\n",
       "      <th>Q15</th>\n",
       "      <th>2023-01-01</th>\n",
       "      <td>383799.991835</td>\n",
       "    </tr>\n",
       "    <tr>\n",
       "      <th>...</th>\n",
       "      <th>...</th>\n",
       "      <td>...</td>\n",
       "    </tr>\n",
       "    <tr>\n",
       "      <th rowspan=\"3\" valign=\"top\">T03</th>\n",
       "      <th>2024-04-30</th>\n",
       "      <td>43657.357143</td>\n",
       "    </tr>\n",
       "    <tr>\n",
       "      <th>2024-04-15</th>\n",
       "      <td>789651.000000</td>\n",
       "    </tr>\n",
       "    <tr>\n",
       "      <th>2024-04-16</th>\n",
       "      <td>139113.000000</td>\n",
       "    </tr>\n",
       "    <tr>\n",
       "      <th rowspan=\"2\" valign=\"top\">U03</th>\n",
       "      <th>2024-04-23</th>\n",
       "      <td>339402.166667</td>\n",
       "    </tr>\n",
       "    <tr>\n",
       "      <th>2024-04-14</th>\n",
       "      <td>19981.333333</td>\n",
       "    </tr>\n",
       "  </tbody>\n",
       "</table>\n",
       "<p>40104 rows × 1 columns</p>\n",
       "</div>"
      ],
      "text/plain": [
       "                              amt\n",
       "item_id timestamp                \n",
       "D05     2023-01-01  107508.458419\n",
       "D11     2023-01-01  872746.393065\n",
       "F02     2023-01-01  202663.628225\n",
       "Q01     2023-01-01  191551.970288\n",
       "Q15     2023-01-01  383799.991835\n",
       "...                           ...\n",
       "T03     2024-04-30   43657.357143\n",
       "        2024-04-15  789651.000000\n",
       "        2024-04-16  139113.000000\n",
       "U03     2024-04-23  339402.166667\n",
       "        2024-04-14   19981.333333\n",
       "\n",
       "[40104 rows x 1 columns]"
      ]
     },
     "execution_count": 25,
     "metadata": {},
     "output_type": "execute_result"
    }
   ],
   "source": [
    "train_data"
   ]
  },
  {
   "cell_type": "code",
   "execution_count": 26,
   "id": "9a1810a6-a92c-47ae-b5f9-12500b7ea692",
   "metadata": {},
   "outputs": [],
   "source": [
    "predictor = TimeSeriesPredictor(label=\"amt\", prediction_length=28, eval_metric=\"RMSE\", freq=\"D\")"
   ]
  },
  {
   "cell_type": "code",
   "execution_count": null,
   "id": "7728e44a-4d6d-40e6-890d-62aa04bc74a9",
   "metadata": {},
   "outputs": [
    {
     "name": "stderr",
     "output_type": "stream",
     "text": [
      "Beginning AutoGluon training... Time limit = 3600s\n",
      "AutoGluon will save models to 'AutogluonModels\\ag-20240711_082035'\n",
      "=================== System Info ===================\n",
      "AutoGluon Version:  1.1.1\n",
      "Python Version:     3.8.18\n",
      "Operating System:   Windows\n",
      "Platform Machine:   AMD64\n",
      "Platform Version:   10.0.22631\n",
      "CPU Count:          12\n",
      "GPU Count:          0\n",
      "Memory Avail:       19.65 GB / 31.69 GB (62.0%)\n",
      "Disk Space Avail:   592.41 GB / 930.86 GB (63.6%)\n",
      "===================================================\n",
      "\n",
      "Fitting with arguments:\n",
      "{'enable_ensemble': True,\n",
      " 'eval_metric': RMSE,\n",
      " 'freq': 'D',\n",
      " 'hyperparameters': 'default',\n",
      " 'known_covariates_names': [],\n",
      " 'num_val_windows': 1,\n",
      " 'prediction_length': 28,\n",
      " 'quantile_levels': [0.1, 0.2, 0.3, 0.4, 0.5, 0.6, 0.7, 0.8, 0.9],\n",
      " 'random_seed': 42,\n",
      " 'refit_every_n_windows': 1,\n",
      " 'refit_full': False,\n",
      " 'skip_model_selection': False,\n",
      " 'target': 'amt',\n",
      " 'time_limit': 3600,\n",
      " 'verbosity': 2}\n",
      "\n",
      "train_data with frequency 'None' has been resampled to frequency 'D'.\n",
      "Provided train_data has 40337 rows (NaN fraction=0.6%), 83 time series. Median time series length is 486 (min=485, max=486). \n",
      "\n",
      "Provided data contains following columns:\n",
      "\ttarget: 'amt'\n",
      "\n",
      "AutoGluon will gauge predictive performance using evaluation metric: 'RMSE'\n",
      "\tThis metric's sign has been flipped to adhere to being higher_is_better. The metric score can be multiplied by -1 to get the metric value.\n",
      "===================================================\n",
      "\n",
      "Starting training. Start time is 2024-07-11 17:22:03\n",
      "Models that will be trained: ['SeasonalNaive', 'RecursiveTabular', 'DirectTabular', 'CrostonSBA', 'NPTS', 'DynamicOptimizedTheta', 'AutoETS', 'AutoARIMA', 'Chronos[base]', 'TemporalFusionTransformer', 'DeepAR', 'PatchTST']\n",
      "Training timeseries model SeasonalNaive. Training for up to 276.1s of the 3589.0s of remaining time.\n",
      "\t-494295.2972  = Validation score (-RMSE)\n",
      "\t0.40    s     = Training runtime\n",
      "\t3.15    s     = Validation (prediction) runtime\n",
      "Training timeseries model RecursiveTabular. Training for up to 298.8s of the 3585.2s of remaining time.\n"
     ]
    }
   ],
   "source": [
    "predictor.fit(train_data, random_seed = 42,time_limit=3600)"
   ]
  },
  {
   "cell_type": "code",
   "execution_count": null,
   "id": "c2c50262-a8b0-4f14-bffd-8490aaa25fd4",
   "metadata": {},
   "outputs": [],
   "source": []
  },
  {
   "cell_type": "code",
   "execution_count": null,
   "id": "43335150-af54-4d31-a5e5-7d6ce3a52de4",
   "metadata": {},
   "outputs": [],
   "source": []
  }
 ],
 "metadata": {
  "kernelspec": {
   "display_name": "hanati",
   "language": "python",
   "name": "hanati"
  },
  "language_info": {
   "codemirror_mode": {
    "name": "ipython",
    "version": 3
   },
   "file_extension": ".py",
   "mimetype": "text/x-python",
   "name": "python",
   "nbconvert_exporter": "python",
   "pygments_lexer": "ipython3",
   "version": "3.8.18"
  }
 },
 "nbformat": 4,
 "nbformat_minor": 5
}
