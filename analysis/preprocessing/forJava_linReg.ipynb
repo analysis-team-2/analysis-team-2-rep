{
 "cells": [
  {
   "cell_type": "code",
   "execution_count": 1,
   "id": "90e4d709-6c6f-4382-a31d-40341e4aec71",
   "metadata": {},
   "outputs": [],
   "source": [
    "import shap"
   ]
  },
  {
   "cell_type": "code",
   "execution_count": 1,
   "id": "6079f21f-9280-40cf-a9c6-1e5bb88e28e0",
   "metadata": {},
   "outputs": [
    {
     "ename": "TypeError",
     "evalue": "Object of type float32 is not JSON serializable",
     "output_type": "error",
     "traceback": [
      "\u001b[1;31m---------------------------------------------------------------------------\u001b[0m",
      "\u001b[1;31mTypeError\u001b[0m                                 Traceback (most recent call last)",
      "Cell \u001b[1;32mIn[1], line 48\u001b[0m\n\u001b[0;32m     45\u001b[0m     \u001b[38;5;28mprint\u001b[39m(json\u001b[38;5;241m.\u001b[39mdumps(result, ensure_ascii\u001b[38;5;241m=\u001b[39m\u001b[38;5;28;01mFalse\u001b[39;00m))\n\u001b[0;32m     47\u001b[0m \u001b[38;5;28;01mif\u001b[39;00m \u001b[38;5;18m__name__\u001b[39m \u001b[38;5;241m==\u001b[39m \u001b[38;5;124m\"\u001b[39m\u001b[38;5;124m__main__\u001b[39m\u001b[38;5;124m\"\u001b[39m:\n\u001b[1;32m---> 48\u001b[0m     \u001b[43mmain\u001b[49m\u001b[43m(\u001b[49m\u001b[43m)\u001b[49m\n",
      "Cell \u001b[1;32mIn[1], line 45\u001b[0m, in \u001b[0;36mmain\u001b[1;34m()\u001b[0m\n\u001b[0;32m     38\u001b[0m     result \u001b[38;5;241m=\u001b[39m {\n\u001b[0;32m     39\u001b[0m         \u001b[38;5;124m\"\u001b[39m\u001b[38;5;124mstatus\u001b[39m\u001b[38;5;124m\"\u001b[39m: \u001b[38;5;124m\"\u001b[39m\u001b[38;5;124merror\u001b[39m\u001b[38;5;124m\"\u001b[39m,\n\u001b[0;32m     40\u001b[0m         \u001b[38;5;124m\"\u001b[39m\u001b[38;5;124mmessage\u001b[39m\u001b[38;5;124m\"\u001b[39m: \u001b[38;5;28mstr\u001b[39m(e)\n\u001b[0;32m     41\u001b[0m     }\n\u001b[0;32m     43\u001b[0m \u001b[38;5;66;03m# 결과를 JSON 형태로 표준 출력\u001b[39;00m\n\u001b[0;32m     44\u001b[0m \u001b[38;5;66;03m# sys.stdout = io.TextIOWrapper(sys.stdout.buffer, encoding='utf-8')\u001b[39;00m\n\u001b[1;32m---> 45\u001b[0m \u001b[38;5;28mprint\u001b[39m(\u001b[43mjson\u001b[49m\u001b[38;5;241;43m.\u001b[39;49m\u001b[43mdumps\u001b[49m\u001b[43m(\u001b[49m\u001b[43mresult\u001b[49m\u001b[43m,\u001b[49m\u001b[43m \u001b[49m\u001b[43mensure_ascii\u001b[49m\u001b[38;5;241;43m=\u001b[39;49m\u001b[38;5;28;43;01mFalse\u001b[39;49;00m\u001b[43m)\u001b[49m)\n",
      "File \u001b[1;32m~\\anaconda3\\envs\\hanati\\lib\\json\\__init__.py:234\u001b[0m, in \u001b[0;36mdumps\u001b[1;34m(obj, skipkeys, ensure_ascii, check_circular, allow_nan, cls, indent, separators, default, sort_keys, **kw)\u001b[0m\n\u001b[0;32m    232\u001b[0m \u001b[38;5;28;01mif\u001b[39;00m \u001b[38;5;28mcls\u001b[39m \u001b[38;5;129;01mis\u001b[39;00m \u001b[38;5;28;01mNone\u001b[39;00m:\n\u001b[0;32m    233\u001b[0m     \u001b[38;5;28mcls\u001b[39m \u001b[38;5;241m=\u001b[39m JSONEncoder\n\u001b[1;32m--> 234\u001b[0m \u001b[38;5;28;01mreturn\u001b[39;00m \u001b[38;5;28;43mcls\u001b[39;49m\u001b[43m(\u001b[49m\n\u001b[0;32m    235\u001b[0m \u001b[43m    \u001b[49m\u001b[43mskipkeys\u001b[49m\u001b[38;5;241;43m=\u001b[39;49m\u001b[43mskipkeys\u001b[49m\u001b[43m,\u001b[49m\u001b[43m \u001b[49m\u001b[43mensure_ascii\u001b[49m\u001b[38;5;241;43m=\u001b[39;49m\u001b[43mensure_ascii\u001b[49m\u001b[43m,\u001b[49m\n\u001b[0;32m    236\u001b[0m \u001b[43m    \u001b[49m\u001b[43mcheck_circular\u001b[49m\u001b[38;5;241;43m=\u001b[39;49m\u001b[43mcheck_circular\u001b[49m\u001b[43m,\u001b[49m\u001b[43m \u001b[49m\u001b[43mallow_nan\u001b[49m\u001b[38;5;241;43m=\u001b[39;49m\u001b[43mallow_nan\u001b[49m\u001b[43m,\u001b[49m\u001b[43m \u001b[49m\u001b[43mindent\u001b[49m\u001b[38;5;241;43m=\u001b[39;49m\u001b[43mindent\u001b[49m\u001b[43m,\u001b[49m\n\u001b[0;32m    237\u001b[0m \u001b[43m    \u001b[49m\u001b[43mseparators\u001b[49m\u001b[38;5;241;43m=\u001b[39;49m\u001b[43mseparators\u001b[49m\u001b[43m,\u001b[49m\u001b[43m \u001b[49m\u001b[43mdefault\u001b[49m\u001b[38;5;241;43m=\u001b[39;49m\u001b[43mdefault\u001b[49m\u001b[43m,\u001b[49m\u001b[43m \u001b[49m\u001b[43msort_keys\u001b[49m\u001b[38;5;241;43m=\u001b[39;49m\u001b[43msort_keys\u001b[49m\u001b[43m,\u001b[49m\n\u001b[0;32m    238\u001b[0m \u001b[43m    \u001b[49m\u001b[38;5;241;43m*\u001b[39;49m\u001b[38;5;241;43m*\u001b[39;49m\u001b[43mkw\u001b[49m\u001b[43m)\u001b[49m\u001b[38;5;241;43m.\u001b[39;49m\u001b[43mencode\u001b[49m\u001b[43m(\u001b[49m\u001b[43mobj\u001b[49m\u001b[43m)\u001b[49m\n",
      "File \u001b[1;32m~\\anaconda3\\envs\\hanati\\lib\\json\\encoder.py:199\u001b[0m, in \u001b[0;36mJSONEncoder.encode\u001b[1;34m(self, o)\u001b[0m\n\u001b[0;32m    195\u001b[0m         \u001b[38;5;28;01mreturn\u001b[39;00m encode_basestring(o)\n\u001b[0;32m    196\u001b[0m \u001b[38;5;66;03m# This doesn't pass the iterator directly to ''.join() because the\u001b[39;00m\n\u001b[0;32m    197\u001b[0m \u001b[38;5;66;03m# exceptions aren't as detailed.  The list call should be roughly\u001b[39;00m\n\u001b[0;32m    198\u001b[0m \u001b[38;5;66;03m# equivalent to the PySequence_Fast that ''.join() would do.\u001b[39;00m\n\u001b[1;32m--> 199\u001b[0m chunks \u001b[38;5;241m=\u001b[39m \u001b[38;5;28;43mself\u001b[39;49m\u001b[38;5;241;43m.\u001b[39;49m\u001b[43miterencode\u001b[49m\u001b[43m(\u001b[49m\u001b[43mo\u001b[49m\u001b[43m,\u001b[49m\u001b[43m \u001b[49m\u001b[43m_one_shot\u001b[49m\u001b[38;5;241;43m=\u001b[39;49m\u001b[38;5;28;43;01mTrue\u001b[39;49;00m\u001b[43m)\u001b[49m\n\u001b[0;32m    200\u001b[0m \u001b[38;5;28;01mif\u001b[39;00m \u001b[38;5;129;01mnot\u001b[39;00m \u001b[38;5;28misinstance\u001b[39m(chunks, (\u001b[38;5;28mlist\u001b[39m, \u001b[38;5;28mtuple\u001b[39m)):\n\u001b[0;32m    201\u001b[0m     chunks \u001b[38;5;241m=\u001b[39m \u001b[38;5;28mlist\u001b[39m(chunks)\n",
      "File \u001b[1;32m~\\anaconda3\\envs\\hanati\\lib\\json\\encoder.py:257\u001b[0m, in \u001b[0;36mJSONEncoder.iterencode\u001b[1;34m(self, o, _one_shot)\u001b[0m\n\u001b[0;32m    252\u001b[0m \u001b[38;5;28;01melse\u001b[39;00m:\n\u001b[0;32m    253\u001b[0m     _iterencode \u001b[38;5;241m=\u001b[39m _make_iterencode(\n\u001b[0;32m    254\u001b[0m         markers, \u001b[38;5;28mself\u001b[39m\u001b[38;5;241m.\u001b[39mdefault, _encoder, \u001b[38;5;28mself\u001b[39m\u001b[38;5;241m.\u001b[39mindent, floatstr,\n\u001b[0;32m    255\u001b[0m         \u001b[38;5;28mself\u001b[39m\u001b[38;5;241m.\u001b[39mkey_separator, \u001b[38;5;28mself\u001b[39m\u001b[38;5;241m.\u001b[39mitem_separator, \u001b[38;5;28mself\u001b[39m\u001b[38;5;241m.\u001b[39msort_keys,\n\u001b[0;32m    256\u001b[0m         \u001b[38;5;28mself\u001b[39m\u001b[38;5;241m.\u001b[39mskipkeys, _one_shot)\n\u001b[1;32m--> 257\u001b[0m \u001b[38;5;28;01mreturn\u001b[39;00m \u001b[43m_iterencode\u001b[49m\u001b[43m(\u001b[49m\u001b[43mo\u001b[49m\u001b[43m,\u001b[49m\u001b[43m \u001b[49m\u001b[38;5;241;43m0\u001b[39;49m\u001b[43m)\u001b[49m\n",
      "File \u001b[1;32m~\\anaconda3\\envs\\hanati\\lib\\json\\encoder.py:179\u001b[0m, in \u001b[0;36mJSONEncoder.default\u001b[1;34m(self, o)\u001b[0m\n\u001b[0;32m    160\u001b[0m \u001b[38;5;28;01mdef\u001b[39;00m \u001b[38;5;21mdefault\u001b[39m(\u001b[38;5;28mself\u001b[39m, o):\n\u001b[0;32m    161\u001b[0m \u001b[38;5;250m    \u001b[39m\u001b[38;5;124;03m\"\"\"Implement this method in a subclass such that it returns\u001b[39;00m\n\u001b[0;32m    162\u001b[0m \u001b[38;5;124;03m    a serializable object for ``o``, or calls the base implementation\u001b[39;00m\n\u001b[0;32m    163\u001b[0m \u001b[38;5;124;03m    (to raise a ``TypeError``).\u001b[39;00m\n\u001b[1;32m   (...)\u001b[0m\n\u001b[0;32m    177\u001b[0m \n\u001b[0;32m    178\u001b[0m \u001b[38;5;124;03m    \"\"\"\u001b[39;00m\n\u001b[1;32m--> 179\u001b[0m     \u001b[38;5;28;01mraise\u001b[39;00m \u001b[38;5;167;01mTypeError\u001b[39;00m(\u001b[38;5;124mf\u001b[39m\u001b[38;5;124m'\u001b[39m\u001b[38;5;124mObject of type \u001b[39m\u001b[38;5;132;01m{\u001b[39;00mo\u001b[38;5;241m.\u001b[39m\u001b[38;5;18m__class__\u001b[39m\u001b[38;5;241m.\u001b[39m\u001b[38;5;18m__name__\u001b[39m\u001b[38;5;132;01m}\u001b[39;00m\u001b[38;5;124m \u001b[39m\u001b[38;5;124m'\u001b[39m\n\u001b[0;32m    180\u001b[0m                     \u001b[38;5;124mf\u001b[39m\u001b[38;5;124m'\u001b[39m\u001b[38;5;124mis not JSON serializable\u001b[39m\u001b[38;5;124m'\u001b[39m)\n",
      "\u001b[1;31mTypeError\u001b[0m: Object of type float32 is not JSON serializable"
     ]
    }
   ],
   "source": [
    "import io\n",
    "import sys\n",
    "from autogluon.tabular import TabularDataset, TabularPredictor\n",
    "import json\n",
    "import pandas as pd\n",
    "def main():\n",
    "    # 표준 입력으로부터 JSON 데이터 읽기\n",
    "    input_data = '''\n",
    "    {\n",
    "        \"admi_cty_no\": [41590590],\n",
    "        \"card_tpbuz_cd\": [\"D01\"],\n",
    "        \"amt\": [5],\n",
    "        \"cnt\": [906],\n",
    "        \"TOTAL_POPULATION\": [7667999.44],\n",
    "        \"운영점포평균영업기간\": [37.7],\n",
    "        \"폐업점포평균영업기간\": [33.8],\n",
    "        \"상권변동지표구분\": [\"LL\"]\n",
    "    }'''\n",
    "\n",
    "    try:\n",
    "        data = json.loads(input_data)\n",
    "\n",
    "        # JSON 데이터를 DataFrame으로 변환\n",
    "        df_predict = pd.DataFrame(data)\n",
    "        df_predict = TabularDataset(df_predict)\n",
    "        # 운영점포평균영업기간의 값만 조회\n",
    "        # operating_avg_period = df_predict['store_avg_period'].values[0]\n",
    "        predictor2 = TabularPredictor.load(r\"AutogluonModels\\ag-20240715_073451\")\n",
    "        y_pred = predictor2.predict(df_predict.drop(columns=['amt']))\n",
    "        \n",
    "        # 결과를 JSON 형태로 반환\n",
    "        result = {\n",
    "            \"status\": \"success\",\n",
    "            \"actual_value\": 365433405,  # 실제값 (예시로 입력)\n",
    "            \"predicted_value\": y_pred.iloc[0]  # numpy.int64 -> 기본 데이터 타입으로 변환\n",
    "        }\n",
    "    except Exception as e:\n",
    "        result = {\n",
    "            \"status\": \"error\",\n",
    "            \"message\": str(e)\n",
    "        }\n",
    "\n",
    "    # 결과를 JSON 형태로 표준 출력\n",
    "    # sys.stdout = io.TextIOWrapper(sys.stdout.buffer, encoding='utf-8')\n",
    "    print(json.dumps(result, ensure_ascii=False))\n",
    "\n",
    "if __name__ == \"__main__\":\n",
    "    main()"
   ]
  },
  {
   "cell_type": "code",
   "execution_count": 7,
   "id": "484bbcbb-b8df-4ce7-9e61-1a7398164841",
   "metadata": {},
   "outputs": [
    {
     "name": "stdout",
     "output_type": "stream",
     "text": [
      "{\"status\": \"success\", \"actual_value\": 365433405, \"predicted_value\": 339639264.0}\n"
     ]
    }
   ],
   "source": [
    "import json\n",
    "import pandas as pd\n",
    "from autogluon.tabular import TabularDataset, TabularPredictor\n",
    "import os\n",
    "\n",
    "def main():\n",
    "    # 표준 입력으로부터 JSON 데이터 읽기\n",
    "    input_data = '''\n",
    "    {\n",
    "        \"admi_cty_no\": [41590590],\n",
    "        \"card_tpbuz_cd\": [\"D01\"],\n",
    "        \"amt\": [5],\n",
    "        \"cnt\": [906],\n",
    "        \"TOTAL_POPULATION\": [7667999.44],\n",
    "        \"store_avg_period\": [37.7],\n",
    "        \"closure_avg_period\": [33.8],\n",
    "        \"business_change_indicator\": [\"LL\"]\n",
    "    }'''\n",
    "\n",
    "    try:\n",
    "        data = json.loads(input_data)\n",
    "\n",
    "        # JSON 데이터를 DataFrame으로 변환\n",
    "        df_predict = pd.DataFrame(data)\n",
    "        df_predict = df_predict.rename(columns={\n",
    "            'store_avg_period': '운영점포평균영업기간',\n",
    "            'closure_avg_period': '폐업점포평균영업기간',\n",
    "            'business_change_indicator': '상권변동지표구분'\n",
    "        })\n",
    "        df_predict = TabularDataset(df_predict)\n",
    "        \n",
    "        # 운영점포평균영업기간의 값만 조회\n",
    "        # operating_avg_period = df_predict['store_avg_period'].values[0]\n",
    "\n",
    "        # 모델 로드\n",
    "        model_path = r\"AutogluonModels\\ag-20240715_073451\"\n",
    "        if not os.path.exists(model_path):\n",
    "            raise FileNotFoundError(f\"모델 경로를 찾을 수 없습니다: {model_path}\")\n",
    "        \n",
    "        predictor2 = TabularPredictor.load(model_path)\n",
    "        \n",
    "        # 'amt' 열을 제외하고 예측\n",
    "        y_pred = predictor2.predict(df_predict.drop(columns=['amt']))\n",
    "        \n",
    "        # 예측 값을 float으로 변환\n",
    "        predicted_value = float(y_pred.iloc[0])\n",
    "        \n",
    "        # 결과를 JSON 형태로 반환\n",
    "        result = {\n",
    "            \"status\": \"success\",\n",
    "            \"actual_value\": 365433405,  # 실제값 (예시로 입력)\n",
    "            \"predicted_value\": predicted_value  # numpy.float32 -> float 변환\n",
    "        }\n",
    "    except Exception as e:\n",
    "        result = {\n",
    "            \"status\": \"error\",\n",
    "            \"message\": str(e)\n",
    "        }\n",
    "\n",
    "    # 결과를 JSON 형태로 표준 출력\n",
    "    print(json.dumps(result, ensure_ascii=False))\n",
    "\n",
    "if __name__ == \"__main__\":\n",
    "    main()"
   ]
  },
  {
   "cell_type": "code",
   "execution_count": null,
   "id": "4a73b1e2-1620-4603-a6a3-58f27fb8afe3",
   "metadata": {},
   "outputs": [],
   "source": []
  }
 ],
 "metadata": {
  "kernelspec": {
   "display_name": "Python 3 (ipykernel)",
   "language": "python",
   "name": "python3"
  },
  "language_info": {
   "codemirror_mode": {
    "name": "ipython",
    "version": 3
   },
   "file_extension": ".py",
   "mimetype": "text/x-python",
   "name": "python",
   "nbconvert_exporter": "python",
   "pygments_lexer": "ipython3",
   "version": "3.8.18"
  }
 },
 "nbformat": 4,
 "nbformat_minor": 5
}
