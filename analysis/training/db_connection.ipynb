{
 "cells": [
  {
   "cell_type": "code",
   "execution_count": 6,
   "id": "84613075-cda4-4e04-9589-9000d2cae32b",
   "metadata": {},
   "outputs": [],
   "source": [
    "# 라이브러리 import\n",
    "import oracledb"
   ]
  },
  {
   "cell_type": "code",
   "execution_count": 7,
   "id": "49c28384-40b9-4875-aa57-1d715f292c66",
   "metadata": {},
   "outputs": [],
   "source": [
    "con = oracledb.connect(user=\"team2\", password=\"team2\", dsn=\"192.168.217.206:1521/kopoda\")\n",
    "cursor = con.cursor() "
   ]
  },
  {
   "cell_type": "code",
   "execution_count": 8,
   "id": "b53df2ba-81d5-49ae-ba02-129296158797",
   "metadata": {},
   "outputs": [],
   "source": [
    "query=\"\"\"\n",
    "    SELECT * FROM CARD_SAMPLE\n",
    "\"\"\"\n",
    "\n",
    "# SQL을 DB에 request\n",
    "cursor.execute(query)\n",
    "\n",
    "# response를 out_data 변수에 저장 \n",
    "out_data = cursor.fetchall()  \n",
    "\n",
    "# 시각화를 위한 labels, ratios list\n",
    "labels =[]\n",
    "ratios =[]\n",
    "\n",
    "# 읽어온 내용을 list에 저장\n",
    "for record in out_data :\n",
    "    print(record)\n",
    "    \n",
    "# DB connection 종료\n",
    "con.close()"
   ]
  },
  {
   "cell_type": "code",
   "execution_count": null,
   "id": "eba025f8-2576-4358-b7a0-8aacc9105e4d",
   "metadata": {},
   "outputs": [],
   "source": []
  }
 ],
 "metadata": {
  "kernelspec": {
   "display_name": "hanati",
   "language": "python",
   "name": "hanati"
  },
  "language_info": {
   "codemirror_mode": {
    "name": "ipython",
    "version": 3
   },
   "file_extension": ".py",
   "mimetype": "text/x-python",
   "name": "python",
   "nbconvert_exporter": "python",
   "pygments_lexer": "ipython3",
   "version": "3.8.18"
  }
 },
 "nbformat": 4,
 "nbformat_minor": 5
}
