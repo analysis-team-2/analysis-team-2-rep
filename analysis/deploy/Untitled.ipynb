{
 "cells": [
  {
   "cell_type": "code",
   "execution_count": 7,
   "id": "58b02702-2814-4f8e-9f7b-479526c575b1",
   "metadata": {},
   "outputs": [],
   "source": [
    "from flask import Flask, request, jsonify\n",
    "from autogluon.tabular import TabularPredictor\n",
    "import pandas as pd\n",
    "import os"
   ]
  },
  {
   "cell_type": "code",
   "execution_count": 27,
   "id": "c56563f2-29d9-41f1-92d2-b0c85d32bb27",
   "metadata": {},
   "outputs": [
    {
     "name": "stderr",
     "output_type": "stream",
     "text": [
      "WARNING: Could not find version file at \"AutogluonModels\\ag-20240712_120603\\version.txt\".\n",
      "This means that the predictor was fit in an AutoGluon version `<=0.3.1`.\n"
     ]
    },
    {
     "ename": "FileNotFoundError",
     "evalue": "[Errno 2] No such file or directory: 'AutogluonModels\\\\ag-20240712_120603\\\\predictor.pkl'",
     "output_type": "error",
     "traceback": [
      "\u001b[1;31m---------------------------------------------------------------------------\u001b[0m",
      "\u001b[1;31mFileNotFoundError\u001b[0m                         Traceback (most recent call last)",
      "Cell \u001b[1;32mIn[27], line 2\u001b[0m\n\u001b[0;32m      1\u001b[0m app \u001b[38;5;241m=\u001b[39m Flask(\u001b[38;5;18m__name__\u001b[39m)\n\u001b[1;32m----> 2\u001b[0m predictor \u001b[38;5;241m=\u001b[39m \u001b[43mTabularPredictor\u001b[49m\u001b[38;5;241;43m.\u001b[39;49m\u001b[43mload\u001b[49m\u001b[43m(\u001b[49m\u001b[38;5;124;43mr\u001b[39;49m\u001b[38;5;124;43m\"\u001b[39;49m\u001b[38;5;124;43mAutogluonModels\u001b[39;49m\u001b[38;5;124;43m\\\u001b[39;49m\u001b[38;5;124;43mag-20240712_120603\u001b[39;49m\u001b[38;5;124;43m\"\u001b[39;49m\u001b[43m)\u001b[49m\n",
      "File \u001b[1;32m~\\anaconda3\\envs\\hanati\\lib\\site-packages\\autogluon\\tabular\\predictor\\predictor.py:4399\u001b[0m, in \u001b[0;36mTabularPredictor.load\u001b[1;34m(cls, path, verbosity, require_version_match, require_py_version_match, check_packages)\u001b[0m\n\u001b[0;32m   4396\u001b[0m     version_saved \u001b[38;5;241m=\u001b[39m \u001b[38;5;28;01mNone\u001b[39;00m\n\u001b[0;32m   4398\u001b[0m \u001b[38;5;28;01mif\u001b[39;00m version_saved \u001b[38;5;129;01mis\u001b[39;00m \u001b[38;5;28;01mNone\u001b[39;00m:\n\u001b[1;32m-> 4399\u001b[0m     predictor \u001b[38;5;241m=\u001b[39m \u001b[38;5;28;43mcls\u001b[39;49m\u001b[38;5;241;43m.\u001b[39;49m\u001b[43m_load\u001b[49m\u001b[43m(\u001b[49m\u001b[43mpath\u001b[49m\u001b[38;5;241;43m=\u001b[39;49m\u001b[43mpath\u001b[49m\u001b[43m)\u001b[49m\n\u001b[0;32m   4400\u001b[0m     \u001b[38;5;28;01mtry\u001b[39;00m:\n\u001b[0;32m   4401\u001b[0m         version_saved \u001b[38;5;241m=\u001b[39m predictor\u001b[38;5;241m.\u001b[39m_learner\u001b[38;5;241m.\u001b[39mversion\n",
      "File \u001b[1;32m~\\anaconda3\\envs\\hanati\\lib\\site-packages\\autogluon\\tabular\\predictor\\predictor.py:4322\u001b[0m, in \u001b[0;36mTabularPredictor._load\u001b[1;34m(cls, path)\u001b[0m\n\u001b[0;32m   4317\u001b[0m \u001b[38;5;129m@classmethod\u001b[39m\n\u001b[0;32m   4318\u001b[0m \u001b[38;5;28;01mdef\u001b[39;00m \u001b[38;5;21m_load\u001b[39m(\u001b[38;5;28mcls\u001b[39m, path: \u001b[38;5;28mstr\u001b[39m) \u001b[38;5;241m-\u001b[39m\u001b[38;5;241m>\u001b[39m \u001b[38;5;124m\"\u001b[39m\u001b[38;5;124mTabularPredictor\u001b[39m\u001b[38;5;124m\"\u001b[39m:\n\u001b[0;32m   4319\u001b[0m \u001b[38;5;250m    \u001b[39m\u001b[38;5;124;03m\"\"\"\u001b[39;00m\n\u001b[0;32m   4320\u001b[0m \u001b[38;5;124;03m    Inner load method, called in `load`.\u001b[39;00m\n\u001b[0;32m   4321\u001b[0m \u001b[38;5;124;03m    \"\"\"\u001b[39;00m\n\u001b[1;32m-> 4322\u001b[0m     predictor: TabularPredictor \u001b[38;5;241m=\u001b[39m \u001b[43mload_pkl\u001b[49m\u001b[38;5;241;43m.\u001b[39;49m\u001b[43mload\u001b[49m\u001b[43m(\u001b[49m\u001b[43mpath\u001b[49m\u001b[38;5;241;43m=\u001b[39;49m\u001b[43mos\u001b[49m\u001b[38;5;241;43m.\u001b[39;49m\u001b[43mpath\u001b[49m\u001b[38;5;241;43m.\u001b[39;49m\u001b[43mjoin\u001b[49m\u001b[43m(\u001b[49m\u001b[43mpath\u001b[49m\u001b[43m,\u001b[49m\u001b[43m \u001b[49m\u001b[38;5;28;43mcls\u001b[39;49m\u001b[38;5;241;43m.\u001b[39;49m\u001b[43mpredictor_file_name\u001b[49m\u001b[43m)\u001b[49m\u001b[43m)\u001b[49m\n\u001b[0;32m   4323\u001b[0m     learner \u001b[38;5;241m=\u001b[39m predictor\u001b[38;5;241m.\u001b[39m_learner_type\u001b[38;5;241m.\u001b[39mload(path)\n\u001b[0;32m   4324\u001b[0m     predictor\u001b[38;5;241m.\u001b[39m_set_post_fit_vars(learner\u001b[38;5;241m=\u001b[39mlearner)\n",
      "File \u001b[1;32m~\\anaconda3\\envs\\hanati\\lib\\site-packages\\autogluon\\common\\loaders\\load_pkl.py:43\u001b[0m, in \u001b[0;36mload\u001b[1;34m(path, format, verbose, **kwargs)\u001b[0m\n\u001b[0;32m     40\u001b[0m     compression_fn_kwargs \u001b[38;5;241m=\u001b[39m {}\n\u001b[0;32m     42\u001b[0m \u001b[38;5;28;01mif\u001b[39;00m compression_fn \u001b[38;5;129;01min\u001b[39;00m compression_fn_map:\n\u001b[1;32m---> 43\u001b[0m     \u001b[38;5;28;01mwith\u001b[39;00m \u001b[43mcompression_fn_map\u001b[49m\u001b[43m[\u001b[49m\u001b[43mcompression_fn\u001b[49m\u001b[43m]\u001b[49m\u001b[43m[\u001b[49m\u001b[38;5;124;43m\"\u001b[39;49m\u001b[38;5;124;43mopen\u001b[39;49m\u001b[38;5;124;43m\"\u001b[39;49m\u001b[43m]\u001b[49m\u001b[43m(\u001b[49m\u001b[43mvalidated_path\u001b[49m\u001b[43m,\u001b[49m\u001b[43m \u001b[49m\u001b[38;5;124;43m\"\u001b[39;49m\u001b[38;5;124;43mrb\u001b[39;49m\u001b[38;5;124;43m\"\u001b[39;49m\u001b[43m,\u001b[49m\u001b[43m \u001b[49m\u001b[38;5;241;43m*\u001b[39;49m\u001b[38;5;241;43m*\u001b[39;49m\u001b[43mcompression_fn_kwargs\u001b[49m\u001b[43m)\u001b[49m \u001b[38;5;28;01mas\u001b[39;00m fin:\n\u001b[0;32m     44\u001b[0m         \u001b[38;5;28mobject\u001b[39m \u001b[38;5;241m=\u001b[39m pickle\u001b[38;5;241m.\u001b[39mload(fin)\n\u001b[0;32m     45\u001b[0m \u001b[38;5;28;01melse\u001b[39;00m:\n",
      "\u001b[1;31mFileNotFoundError\u001b[0m: [Errno 2] No such file or directory: 'AutogluonModels\\\\ag-20240712_120603\\\\predictor.pkl'"
     ]
    }
   ],
   "source": [
    "app = Flask(__name__)\n",
    "predictor = TabularPredictor.load(r\"AutogluonModels\\ag-20240712_120603\")"
   ]
  },
  {
   "cell_type": "code",
   "execution_count": 3,
   "id": "d63dadd7-6aa3-43eb-9748-e83759c7bf46",
   "metadata": {},
   "outputs": [
    {
     "name": "stdout",
     "output_type": "stream",
     "text": [
      " * Serving Flask app '__main__'\n",
      " * Debug mode: off\n"
     ]
    },
    {
     "name": "stderr",
     "output_type": "stream",
     "text": [
      "WARNING: This is a development server. Do not use it in a production deployment. Use a production WSGI server instead.\n",
      " * Running on all addresses (0.0.0.0)\n",
      " * Running on http://127.0.0.1:5000\n",
      " * Running on http://192.168.217.249:5000\n",
      "Press CTRL+C to quit\n"
     ]
    }
   ],
   "source": [
    "@app.route('/predict', methods=['POST'])\n",
    "def predict():\n",
    "    data = request.json\n",
    "    df = pd.DataFrame(data)\n",
    "    predictions = model.predict(df)\n",
    "    return jsonify(predictions.tolist())\n",
    "\n",
    "if __name__ == '__main__':\n",
    "    app.run(host='0.0.0.0', port=5000)"
   ]
  },
  {
   "cell_type": "code",
   "execution_count": null,
   "id": "9e8727c0-2354-4c66-aa05-7d01970abb37",
   "metadata": {},
   "outputs": [],
   "source": []
  }
 ],
 "metadata": {
  "kernelspec": {
   "display_name": "hanati",
   "language": "python",
   "name": "hanati"
  },
  "language_info": {
   "codemirror_mode": {
    "name": "ipython",
    "version": 3
   },
   "file_extension": ".py",
   "mimetype": "text/x-python",
   "name": "python",
   "nbconvert_exporter": "python",
   "pygments_lexer": "ipython3",
   "version": "3.8.18"
  }
 },
 "nbformat": 4,
 "nbformat_minor": 5
}
